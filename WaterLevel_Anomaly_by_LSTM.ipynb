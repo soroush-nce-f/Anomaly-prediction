{
  "nbformat": 4,
  "nbformat_minor": 0,
  "metadata": {
    "kernelspec": {
      "display_name": "Python 3",
      "language": "python",
      "name": "python3"
    },
    "language_info": {
      "codemirror_mode": {
        "name": "ipython",
        "version": 3
      },
      "file_extension": ".py",
      "mimetype": "text/x-python",
      "name": "python",
      "nbconvert_exporter": "python",
      "pygments_lexer": "ipython3",
      "version": "3.5.4"
    },
    "colab": {
      "provenance": []
    }
  },
  "cells": [
    {
      "cell_type": "code",
      "metadata": {
        "id": "7CiGkD7a7SQk"
      },
      "source": [],
      "execution_count": null,
      "outputs": []
    },
    {
      "cell_type": "code",
      "metadata": {
        "id": "3XN-w62m7SQt"
      },
      "source": [
        "import numpy as np\n",
        "from keras.models import Sequential\n",
        "from keras.layers import LSTM, Input, Dropout\n",
        "from keras.layers import Dense\n",
        "from keras.layers import RepeatVector\n",
        "from keras.layers import TimeDistributed\n",
        "import pandas as pd\n",
        "from matplotlib import pyplot as plt\n",
        "from sklearn.preprocessing import MinMaxScaler, StandardScaler\n",
        "from keras.models import Model\n",
        "import seaborn as sns "
      ],
      "execution_count": null,
      "outputs": []
    },
    {
      "cell_type": "code",
      "metadata": {
        "colab": {
          "base_uri": "https://localhost:8080/"
        },
        "id": "eHFQik1A7SQv",
        "outputId": "3c7c84e3-fbe2-455f-87b4-12db6f73fc66"
      },
      "source": [
        "dataframe = pd.read_csv('Dataset_1966.csv')\n",
        "df = dataframe[['Date', 'WL']]\n",
        "df['Date'] = pd.to_datetime(df['Date'])"
      ],
      "execution_count": null,
      "outputs": [
        {
          "output_type": "stream",
          "text": [
            "/usr/local/lib/python3.7/dist-packages/ipykernel_launcher.py:3: SettingWithCopyWarning: \n",
            "A value is trying to be set on a copy of a slice from a DataFrame.\n",
            "Try using .loc[row_indexer,col_indexer] = value instead\n",
            "\n",
            "See the caveats in the documentation: https://pandas.pydata.org/pandas-docs/stable/user_guide/indexing.html#returning-a-view-versus-a-copy\n",
            "  This is separate from the ipykernel package so we can avoid doing imports until\n"
          ],
          "name": "stderr"
        }
      ]
    },
    {
      "cell_type": "code",
      "metadata": {
        "colab": {
          "base_uri": "https://localhost:8080/",
          "height": 297
        },
        "id": "t7q0byyd7SQx",
        "outputId": "71954de2-fd10-4ed0-d94c-b6f2319cba91"
      },
      "source": [
        "sns.lineplot(x=df['Date'], y=df['WL'])"
      ],
      "execution_count": null,
      "outputs": [
        {
          "output_type": "execute_result",
          "data": {
            "text/plain": [
              "<matplotlib.axes._subplots.AxesSubplot at 0x7fe549448d90>"
            ]
          },
          "metadata": {
            "tags": []
          },
          "execution_count": 99
        },
        {
          "output_type": "display_data",
          "data": {
            "image/png": "[encoded data removed]",
            "text/plain": [
              "<Figure size 432x288 with 1 Axes>"
            ]
          },
          "metadata": {
            "tags": [],
            "needs_background": "light"
          }
        }
      ]
    },
    {
      "cell_type": "code",
      "metadata": {
        "colab": {
          "base_uri": "https://localhost:8080/"
        },
        "id": "ew-5hJTK7SQx",
        "outputId": "884c35cc-a8e2-4e4b-fa64-47e277bf0cff"
      },
      "source": [
        "print(\"Start date is: \", df['Date'].min())\n",
        "print(\"End date is: \", df['Date'].max())"
      ],
      "execution_count": null,
      "outputs": [
        {
          "output_type": "stream",
          "text": [
            "Start date is:  1966-04-01 00:00:00\n",
            "End date is:  2019-11-01 00:00:00\n"
          ],
          "name": "stdout"
        }
      ]
    },
    {
      "cell_type": "code",
      "metadata": {
        "id": "wcI8kqEB7SQy"
      },
      "source": [
        "#Change train data from Mid 2017 to 2019.... seems to be a jump early 2017\n",
        "train, test = df.loc[df['Date'] <= '1992-04-01'], df.loc[df['Date'] > '1992-04-01']"
      ],
      "execution_count": null,
      "outputs": []
    },
    {
      "cell_type": "code",
      "metadata": {
        "id": "_tyUi2Gh7SQy"
      },
      "source": [
        "#Convert pandas dataframe to numpy array\n",
        "#dataset = dataframe.values\n",
        "#dataset = dataset.astype('float32') #COnvert values to float"
      ],
      "execution_count": null,
      "outputs": []
    },
    {
      "cell_type": "code",
      "metadata": {
        "id": "odVl84wL7SQz"
      },
      "source": [
        "#LSTM uses sigmoid and tanh that are sensitive to magnitude so values need to be normalized\n",
        "# normalize the dataset\n",
        "#scaler = MinMaxScaler() #Also try QuantileTransformer\n",
        "scaler = StandardScaler()\n",
        "scaler = scaler.fit(train[['WL']])"
      ],
      "execution_count": null,
      "outputs": []
    },
    {
      "cell_type": "code",
      "metadata": {
        "colab": {
          "base_uri": "https://localhost:8080/"
        },
        "id": "TmYEmK-f7SQz",
        "outputId": "63400f22-adc1-4173-be90-96f197478046"
      },
      "source": [
        "train['WL'] = scaler.transform(train[['WL']])\n",
        "test['WL'] = scaler.transform(test[['WL']])"
      ],
      "execution_count": null,
      "outputs": [
        {
          "output_type": "stream",
          "text": [
            "/usr/local/lib/python3.7/dist-packages/ipykernel_launcher.py:1: SettingWithCopyWarning: \n",
            "A value is trying to be set on a copy of a slice from a DataFrame.\n",
            "Try using .loc[row_indexer,col_indexer] = value instead\n",
            "\n",
            "See the caveats in the documentation: https://pandas.pydata.org/pandas-docs/stable/user_guide/indexing.html#returning-a-view-versus-a-copy\n",
            "  \"\"\"Entry point for launching an IPython kernel.\n",
            "/usr/local/lib/python3.7/dist-packages/ipykernel_launcher.py:2: SettingWithCopyWarning: \n",
            "A value is trying to be set on a copy of a slice from a DataFrame.\n",
            "Try using .loc[row_indexer,col_indexer] = value instead\n",
            "\n",
            "See the caveats in the documentation: https://pandas.pydata.org/pandas-docs/stable/user_guide/indexing.html#returning-a-view-versus-a-copy\n",
            "  \n"
          ],
          "name": "stderr"
        }
      ]
    },
    {
      "cell_type": "code",
      "metadata": {
        "id": "RVxRywM_7SQ0"
      },
      "source": [
        "#As required for LSTM networks, we require to reshape an input data into n_samples x timesteps x n_features. \n",
        "#In this example, the n_features is 2. We will make timesteps = 3. \n",
        "#With this, the resultant n_samples is 5 (as the input data has 9 rows)."
      ],
      "execution_count": null,
      "outputs": []
    },
    {
      "cell_type": "code",
      "metadata": {
        "id": "PVwd30sl7SQ0"
      },
      "source": [
        "seq_size = 24  # Number of time steps to look back \n",
        "#Larger sequences (look further back) may improve forecasting.\n"
      ],
      "execution_count": null,
      "outputs": []
    },
    {
      "cell_type": "code",
      "metadata": {
        "id": "apIfwRqm7SQ0"
      },
      "source": [
        "def to_sequences(x, y, seq_size=1):\n",
        "    x_values = []\n",
        "    y_values = []\n",
        "\n",
        "    for i in range(len(x)-seq_size):\n",
        "        #print(i)\n",
        "        x_values.append(x.iloc[i:(i+seq_size)].values)\n",
        "        y_values.append(y.iloc[i+seq_size])\n",
        "        \n",
        "    return np.array(x_values), np.array(y_values)"
      ],
      "execution_count": null,
      "outputs": []
    },
    {
      "cell_type": "code",
      "metadata": {
        "id": "abZWrMNv7SQ1"
      },
      "source": [
        "trainX, trainY = to_sequences(train[['WL']], train['WL'], seq_size)\n",
        "testX, testY = to_sequences(test[['WL']], test['WL'], seq_size)\n",
        "#print(trainX)"
      ],
      "execution_count": null,
      "outputs": []
    },
    {
      "cell_type": "code",
      "metadata": {
        "id": "QQqWcVbu7SQ1"
      },
      "source": [
        "# define Autoencoder model\n",
        "#Input shape would be seq_size, 1 - 1 beacuse we have 1 feature. \n",
        "#seq_size = trainX.shape[1]"
      ],
      "execution_count": null,
      "outputs": []
    },
    {
      "cell_type": "code",
      "metadata": {
        "id": "5EqwuaFS7SQ2"
      },
      "source": [
        "# model = Sequential()\n",
        "# model.add(LSTM(128, activation='relu', input_shape=(trainX.shape[1], trainX.shape[2]), return_sequences=True))\n",
        "# model.add(LSTM(64, activation='relu', return_sequences=False))\n",
        "# model.add(RepeatVector(trainX.shape[1]))\n",
        "# model.add(LSTM(64, activation='relu', return_sequences=True))\n",
        "# model.add(LSTM(128, activation='relu', return_sequences=True))\n",
        "# model.add(TimeDistributed(Dense(trainX.shape[2])))\n",
        "\n",
        "# model.compile(optimizer='adam', loss='mse')\n",
        "# model.summary()"
      ],
      "execution_count": null,
      "outputs": []
    },
    {
      "cell_type": "code",
      "metadata": {
        "colab": {
          "base_uri": "https://localhost:8080/"
        },
        "id": "xjkArpCw7SQ2",
        "outputId": "635377ac-8d20-4e94-ab72-c8fda10f9594"
      },
      "source": [
        "#Try another model\n",
        "model = Sequential()\n",
        "model.add(LSTM(128, input_shape=(trainX.shape[1], trainX.shape[2]), return_sequences=False))\n",
        "model.add(Dropout(rate=0.3))\n",
        "\n",
        "model.add(RepeatVector(trainX.shape[1]))\n",
        "\n",
        "model.add(LSTM(128, return_sequences=True))\n",
        "model.add(Dropout(rate=0.3))\n",
        "model.add(TimeDistributed(Dense(trainX.shape[2])))\n",
        "model.compile(optimizer='adam', loss='mae')\n",
        "model.summary()"
      ],
      "execution_count": null,
      "outputs": [
        {
          "output_type": "stream",
          "text": [
            "Model: \"sequential_4\"\n",
            "_________________________________________________________________\n",
            "Layer (type)                 Output Shape              Param #   \n",
            "=================================================================\n",
            "lstm_8 (LSTM)                (None, 128)               66560     \n",
            "_________________________________________________________________\n",
            "dropout_8 (Dropout)          (None, 128)               0         \n",
            "_________________________________________________________________\n",
            "repeat_vector_4 (RepeatVecto (None, 24, 128)           0         \n",
            "_________________________________________________________________\n",
            "lstm_9 (LSTM)                (None, 24, 128)           131584    \n",
            "_________________________________________________________________\n",
            "dropout_9 (Dropout)          (None, 24, 128)           0         \n",
            "_________________________________________________________________\n",
            "time_distributed_4 (TimeDist (None, 24, 1)             129       \n",
            "=================================================================\n",
            "Total params: 198,273\n",
            "Trainable params: 198,273\n",
            "Non-trainable params: 0\n",
            "_________________________________________________________________\n"
          ],
          "name": "stdout"
        }
      ]
    },
    {
      "cell_type": "code",
      "metadata": {
        "colab": {
          "base_uri": "https://localhost:8080/"
        },
        "id": "jx7cKmgb7SQ3",
        "outputId": "ec8357d8-d311-4e65-a891-1491db5f5b64"
      },
      "source": [
        "# fit model\n",
        "history = model.fit(trainX, trainY, epochs=300,  validation_split=0.2, batch_size=12, verbose=1)"
      ],
      "execution_count": null,
      "outputs": [
        {
          "output_type": "stream",
          "text": [
            "Epoch 1/300\n",
            "20/20 [==============================] - 6s 100ms/step - loss: 0.4248 - val_loss: 0.3386\n",
            "Epoch 2/300\n",
            "20/20 [==============================] - 1s 55ms/step - loss: 0.3178 - val_loss: 0.2786\n",
            "Epoch 3/300\n",
            "20/20 [==============================] - 1s 56ms/step - loss: 0.2950 - val_loss: 0.2603\n",
            "Epoch 4/300\n",
            "20/20 [==============================] - 1s 55ms/step - loss: 0.2316 - val_loss: 0.2375\n",
            "Epoch 5/300\n",
            "20/20 [==============================] - 1s 55ms/step - loss: 0.2293 - val_loss: 0.1996\n",
            "Epoch 6/300\n",
            "20/20 [==============================] - 1s 57ms/step - loss: 0.1820 - val_loss: 0.1674\n",
            "Epoch 7/300\n",
            "20/20 [==============================] - 1s 57ms/step - loss: 0.2010 - val_loss: 0.1481\n",
            "Epoch 8/300\n",
            "20/20 [==============================] - 1s 57ms/step - loss: 0.1773 - val_loss: 0.1455\n",
            "Epoch 9/300\n",
            "20/20 [==============================] - 1s 55ms/step - loss: 0.1566 - val_loss: 0.1397\n",
            "Epoch 10/300\n",
            "20/20 [==============================] - 1s 56ms/step - loss: 0.1593 - val_loss: 0.1560\n",
            "Epoch 11/300\n",
            "20/20 [==============================] - 1s 56ms/step - loss: 0.1576 - val_loss: 0.1551\n",
            "Epoch 12/300\n",
            "20/20 [==============================] - 1s 57ms/step - loss: 0.1577 - val_loss: 0.1172\n",
            "Epoch 13/300\n",
            "20/20 [==============================] - 1s 55ms/step - loss: 0.1552 - val_loss: 0.1282\n",
            "Epoch 14/300\n",
            "20/20 [==============================] - 1s 60ms/step - loss: 0.1566 - val_loss: 0.1349\n",
            "Epoch 15/300\n",
            "20/20 [==============================] - 1s 57ms/step - loss: 0.1282 - val_loss: 0.1226\n",
            "Epoch 16/300\n",
            "20/20 [==============================] - 1s 57ms/step - loss: 0.1328 - val_loss: 0.1191\n",
            "Epoch 17/300\n",
            "20/20 [==============================] - 1s 55ms/step - loss: 0.1337 - val_loss: 0.1122\n",
            "Epoch 18/300\n",
            "20/20 [==============================] - 1s 56ms/step - loss: 0.1386 - val_loss: 0.1175\n",
            "Epoch 19/300\n",
            "20/20 [==============================] - 1s 54ms/step - loss: 0.1281 - val_loss: 0.1229\n",
            "Epoch 20/300\n",
            "20/20 [==============================] - 1s 57ms/step - loss: 0.1230 - val_loss: 0.1056\n",
            "Epoch 21/300\n",
            "20/20 [==============================] - 1s 55ms/step - loss: 0.1191 - val_loss: 0.1173\n",
            "Epoch 22/300\n",
            "20/20 [==============================] - 1s 56ms/step - loss: 0.1213 - val_loss: 0.1162\n",
            "Epoch 23/300\n",
            "20/20 [==============================] - 1s 57ms/step - loss: 0.1315 - val_loss: 0.1168\n",
            "Epoch 24/300\n",
            "20/20 [==============================] - 1s 57ms/step - loss: 0.1272 - val_loss: 0.1014\n",
            "Epoch 25/300\n",
            "20/20 [==============================] - 1s 56ms/step - loss: 0.1256 - val_loss: 0.1069\n",
            "Epoch 26/300\n",
            "20/20 [==============================] - 1s 56ms/step - loss: 0.1145 - val_loss: 0.1033\n",
            "Epoch 27/300\n",
            "20/20 [==============================] - 1s 56ms/step - loss: 0.1283 - val_loss: 0.1177\n",
            "Epoch 28/300\n",
            "20/20 [==============================] - 1s 56ms/step - loss: 0.1207 - val_loss: 0.1018\n",
            "Epoch 29/300\n",
            "20/20 [==============================] - 1s 57ms/step - loss: 0.1232 - val_loss: 0.1242\n",
            "Epoch 30/300\n",
            "20/20 [==============================] - 1s 55ms/step - loss: 0.1299 - val_loss: 0.0998\n",
            "Epoch 31/300\n",
            "20/20 [==============================] - 1s 56ms/step - loss: 0.1179 - val_loss: 0.1002\n",
            "Epoch 32/300\n",
            "20/20 [==============================] - 1s 59ms/step - loss: 0.1344 - val_loss: 0.1044\n",
            "Epoch 33/300\n",
            "20/20 [==============================] - 1s 56ms/step - loss: 0.1139 - val_loss: 0.0961\n",
            "Epoch 34/300\n",
            "20/20 [==============================] - 1s 57ms/step - loss: 0.1131 - val_loss: 0.0980\n",
            "Epoch 35/300\n",
            "20/20 [==============================] - 1s 58ms/step - loss: 0.0965 - val_loss: 0.0940\n",
            "Epoch 36/300\n",
            "20/20 [==============================] - 1s 54ms/step - loss: 0.1105 - val_loss: 0.1026\n",
            "Epoch 37/300\n",
            "20/20 [==============================] - 1s 55ms/step - loss: 0.1156 - val_loss: 0.0902\n",
            "Epoch 38/300\n",
            "20/20 [==============================] - 1s 57ms/step - loss: 0.1024 - val_loss: 0.1002\n",
            "Epoch 39/300\n",
            "20/20 [==============================] - 1s 56ms/step - loss: 0.1168 - val_loss: 0.0923\n",
            "Epoch 40/300\n",
            "20/20 [==============================] - 1s 55ms/step - loss: 0.1058 - val_loss: 0.0937\n",
            "Epoch 41/300\n",
            "20/20 [==============================] - 1s 57ms/step - loss: 0.1058 - val_loss: 0.0995\n",
            "Epoch 42/300\n",
            "20/20 [==============================] - 1s 57ms/step - loss: 0.1044 - val_loss: 0.0896\n",
            "Epoch 43/300\n",
            "20/20 [==============================] - 1s 58ms/step - loss: 0.1005 - val_loss: 0.1075\n",
            "Epoch 44/300\n",
            "20/20 [==============================] - 1s 58ms/step - loss: 0.1171 - val_loss: 0.0843\n",
            "Epoch 45/300\n",
            "20/20 [==============================] - 1s 57ms/step - loss: 0.1158 - val_loss: 0.0887\n",
            "Epoch 46/300\n",
            "20/20 [==============================] - 1s 57ms/step - loss: 0.0956 - val_loss: 0.0848\n",
            "Epoch 47/300\n",
            "20/20 [==============================] - 1s 56ms/step - loss: 0.1150 - val_loss: 0.0763\n",
            "Epoch 48/300\n",
            "20/20 [==============================] - 1s 56ms/step - loss: 0.0920 - val_loss: 0.0829\n",
            "Epoch 49/300\n",
            "20/20 [==============================] - 1s 57ms/step - loss: 0.0944 - val_loss: 0.0782\n",
            "Epoch 50/300\n",
            "20/20 [==============================] - 1s 57ms/step - loss: 0.0956 - val_loss: 0.0861\n",
            "Epoch 51/300\n",
            "20/20 [==============================] - 1s 58ms/step - loss: 0.0970 - val_loss: 0.0823\n",
            "Epoch 52/300\n",
            "20/20 [==============================] - 1s 56ms/step - loss: 0.1114 - val_loss: 0.0815\n",
            "Epoch 53/300\n",
            "20/20 [==============================] - 1s 56ms/step - loss: 0.1171 - val_loss: 0.0857\n",
            "Epoch 54/300\n",
            "20/20 [==============================] - 1s 58ms/step - loss: 0.0995 - val_loss: 0.0844\n",
            "Epoch 55/300\n",
            "20/20 [==============================] - 1s 55ms/step - loss: 0.0989 - val_loss: 0.0793\n",
            "Epoch 56/300\n",
            "20/20 [==============================] - 1s 58ms/step - loss: 0.0962 - val_loss: 0.0769\n",
            "Epoch 57/300\n",
            "20/20 [==============================] - 1s 56ms/step - loss: 0.0990 - val_loss: 0.0838\n",
            "Epoch 58/300\n",
            "20/20 [==============================] - 1s 58ms/step - loss: 0.1002 - val_loss: 0.0739\n",
            "Epoch 59/300\n",
            "20/20 [==============================] - 1s 57ms/step - loss: 0.0898 - val_loss: 0.0965\n",
            "Epoch 60/300\n",
            "20/20 [==============================] - 1s 57ms/step - loss: 0.0985 - val_loss: 0.0768\n",
            "Epoch 61/300\n",
            "20/20 [==============================] - 1s 56ms/step - loss: 0.0982 - val_loss: 0.0757\n",
            "Epoch 62/300\n",
            "20/20 [==============================] - 1s 59ms/step - loss: 0.0975 - val_loss: 0.0740\n",
            "Epoch 63/300\n",
            "20/20 [==============================] - 1s 56ms/step - loss: 0.0907 - val_loss: 0.0832\n",
            "Epoch 64/300\n",
            "20/20 [==============================] - 1s 58ms/step - loss: 0.0974 - val_loss: 0.0802\n",
            "Epoch 65/300\n",
            "20/20 [==============================] - 1s 57ms/step - loss: 0.0942 - val_loss: 0.0752\n",
            "Epoch 66/300\n",
            "20/20 [==============================] - 1s 58ms/step - loss: 0.1017 - val_loss: 0.0756\n",
            "Epoch 67/300\n",
            "20/20 [==============================] - 1s 58ms/step - loss: 0.0981 - val_loss: 0.0880\n",
            "Epoch 68/300\n",
            "20/20 [==============================] - 1s 59ms/step - loss: 0.0903 - val_loss: 0.0962\n",
            "Epoch 69/300\n",
            "20/20 [==============================] - 1s 58ms/step - loss: 0.1084 - val_loss: 0.0768\n",
            "Epoch 70/300\n",
            "20/20 [==============================] - 1s 58ms/step - loss: 0.0920 - val_loss: 0.0742\n",
            "Epoch 71/300\n",
            "20/20 [==============================] - 1s 60ms/step - loss: 0.0937 - val_loss: 0.0835\n",
            "Epoch 72/300\n",
            "20/20 [==============================] - 1s 60ms/step - loss: 0.0820 - val_loss: 0.0660\n",
            "Epoch 73/300\n",
            "20/20 [==============================] - 1s 59ms/step - loss: 0.0935 - val_loss: 0.0801\n",
            "Epoch 74/300\n",
            "20/20 [==============================] - 1s 57ms/step - loss: 0.0867 - val_loss: 0.0802\n",
            "Epoch 75/300\n",
            "20/20 [==============================] - 1s 56ms/step - loss: 0.1043 - val_loss: 0.0771\n",
            "Epoch 76/300\n",
            "20/20 [==============================] - 1s 57ms/step - loss: 0.0887 - val_loss: 0.0674\n",
            "Epoch 77/300\n",
            "20/20 [==============================] - 1s 57ms/step - loss: 0.0891 - val_loss: 0.0753\n",
            "Epoch 78/300\n",
            "20/20 [==============================] - 1s 57ms/step - loss: 0.1001 - val_loss: 0.0719\n",
            "Epoch 79/300\n",
            "20/20 [==============================] - 1s 57ms/step - loss: 0.0965 - val_loss: 0.0786\n",
            "Epoch 80/300\n",
            "20/20 [==============================] - 1s 57ms/step - loss: 0.0860 - val_loss: 0.0701\n",
            "Epoch 81/300\n",
            "20/20 [==============================] - 1s 57ms/step - loss: 0.0982 - val_loss: 0.0756\n",
            "Epoch 82/300\n",
            "20/20 [==============================] - 1s 58ms/step - loss: 0.0936 - val_loss: 0.0955\n",
            "Epoch 83/300\n",
            "20/20 [==============================] - 1s 57ms/step - loss: 0.0957 - val_loss: 0.0788\n",
            "Epoch 84/300\n",
            "20/20 [==============================] - 1s 55ms/step - loss: 0.0926 - val_loss: 0.0796\n",
            "Epoch 85/300\n",
            "20/20 [==============================] - 1s 59ms/step - loss: 0.1031 - val_loss: 0.0827\n",
            "Epoch 86/300\n",
            "20/20 [==============================] - 1s 57ms/step - loss: 0.0956 - val_loss: 0.0776\n",
            "Epoch 87/300\n",
            "20/20 [==============================] - 1s 57ms/step - loss: 0.1110 - val_loss: 0.0726\n",
            "Epoch 88/300\n",
            "20/20 [==============================] - 1s 57ms/step - loss: 0.1018 - val_loss: 0.0883\n",
            "Epoch 89/300\n",
            "20/20 [==============================] - 1s 57ms/step - loss: 0.1056 - val_loss: 0.0727\n",
            "Epoch 90/300\n",
            "20/20 [==============================] - 1s 59ms/step - loss: 0.0878 - val_loss: 0.0703\n",
            "Epoch 91/300\n",
            "20/20 [==============================] - 1s 58ms/step - loss: 0.0915 - val_loss: 0.0797\n",
            "Epoch 92/300\n",
            "20/20 [==============================] - 1s 57ms/step - loss: 0.0964 - val_loss: 0.0800\n",
            "Epoch 93/300\n",
            "20/20 [==============================] - 1s 58ms/step - loss: 0.0899 - val_loss: 0.0701\n",
            "Epoch 94/300\n",
            "20/20 [==============================] - 1s 57ms/step - loss: 0.1010 - val_loss: 0.0821\n",
            "Epoch 95/300\n",
            "20/20 [==============================] - 1s 58ms/step - loss: 0.0877 - val_loss: 0.0772\n",
            "Epoch 96/300\n",
            "20/20 [==============================] - 1s 58ms/step - loss: 0.0853 - val_loss: 0.0775\n",
            "Epoch 97/300\n",
            "20/20 [==============================] - 1s 59ms/step - loss: 0.0894 - val_loss: 0.0821\n",
            "Epoch 98/300\n",
            "20/20 [==============================] - 1s 58ms/step - loss: 0.0792 - val_loss: 0.1044\n",
            "Epoch 99/300\n",
            "20/20 [==============================] - 1s 58ms/step - loss: 0.0953 - val_loss: 0.0904\n",
            "Epoch 100/300\n",
            "20/20 [==============================] - 1s 57ms/step - loss: 0.0966 - val_loss: 0.0891\n",
            "Epoch 101/300\n",
            "20/20 [==============================] - 1s 57ms/step - loss: 0.0910 - val_loss: 0.0754\n",
            "Epoch 102/300\n",
            "20/20 [==============================] - 1s 58ms/step - loss: 0.0817 - val_loss: 0.0700\n",
            "Epoch 103/300\n",
            "20/20 [==============================] - 1s 57ms/step - loss: 0.0912 - val_loss: 0.0736\n",
            "Epoch 104/300\n",
            "20/20 [==============================] - 1s 57ms/step - loss: 0.0877 - val_loss: 0.0894\n",
            "Epoch 105/300\n",
            "20/20 [==============================] - 1s 57ms/step - loss: 0.1055 - val_loss: 0.0801\n",
            "Epoch 106/300\n",
            "20/20 [==============================] - 1s 57ms/step - loss: 0.1023 - val_loss: 0.0766\n",
            "Epoch 107/300\n",
            "20/20 [==============================] - 1s 57ms/step - loss: 0.0897 - val_loss: 0.0744\n",
            "Epoch 108/300\n",
            "20/20 [==============================] - 1s 56ms/step - loss: 0.0908 - val_loss: 0.0729\n",
            "Epoch 109/300\n",
            "20/20 [==============================] - 1s 57ms/step - loss: 0.0939 - val_loss: 0.0753\n",
            "Epoch 110/300\n",
            "20/20 [==============================] - 1s 55ms/step - loss: 0.0916 - val_loss: 0.0754\n",
            "Epoch 111/300\n",
            "20/20 [==============================] - 1s 60ms/step - loss: 0.0885 - val_loss: 0.0749\n",
            "Epoch 112/300\n",
            "20/20 [==============================] - 1s 61ms/step - loss: 0.0881 - val_loss: 0.0823\n",
            "Epoch 113/300\n",
            "20/20 [==============================] - 1s 58ms/step - loss: 0.0837 - val_loss: 0.0810\n",
            "Epoch 114/300\n",
            "20/20 [==============================] - 1s 59ms/step - loss: 0.0891 - val_loss: 0.0869\n",
            "Epoch 115/300\n",
            "20/20 [==============================] - 1s 58ms/step - loss: 0.0904 - val_loss: 0.0731\n",
            "Epoch 116/300\n",
            "20/20 [==============================] - 1s 58ms/step - loss: 0.0806 - val_loss: 0.0744\n",
            "Epoch 117/300\n",
            "20/20 [==============================] - 1s 59ms/step - loss: 0.0948 - val_loss: 0.0787\n",
            "Epoch 118/300\n",
            "20/20 [==============================] - 1s 59ms/step - loss: 0.0846 - val_loss: 0.0810\n",
            "Epoch 119/300\n",
            "20/20 [==============================] - 1s 59ms/step - loss: 0.0984 - val_loss: 0.0827\n",
            "Epoch 120/300\n",
            "20/20 [==============================] - 1s 58ms/step - loss: 0.0844 - val_loss: 0.0854\n",
            "Epoch 121/300\n",
            "20/20 [==============================] - 1s 59ms/step - loss: 0.0894 - val_loss: 0.0839\n",
            "Epoch 122/300\n",
            "20/20 [==============================] - 1s 57ms/step - loss: 0.0864 - val_loss: 0.0674\n",
            "Epoch 123/300\n",
            "20/20 [==============================] - 1s 59ms/step - loss: 0.0878 - val_loss: 0.0727\n",
            "Epoch 124/300\n",
            "20/20 [==============================] - 1s 58ms/step - loss: 0.0834 - val_loss: 0.0747\n",
            "Epoch 125/300\n",
            "20/20 [==============================] - 1s 59ms/step - loss: 0.0820 - val_loss: 0.0662\n",
            "Epoch 126/300\n",
            "20/20 [==============================] - 1s 56ms/step - loss: 0.0884 - val_loss: 0.0753\n",
            "Epoch 127/300\n",
            "20/20 [==============================] - 1s 57ms/step - loss: 0.0906 - val_loss: 0.0858\n",
            "Epoch 128/300\n",
            "20/20 [==============================] - 1s 56ms/step - loss: 0.0876 - val_loss: 0.0687\n",
            "Epoch 129/300\n",
            "20/20 [==============================] - 1s 58ms/step - loss: 0.0826 - val_loss: 0.0820\n",
            "Epoch 130/300\n",
            "20/20 [==============================] - 1s 57ms/step - loss: 0.0935 - val_loss: 0.0711\n",
            "Epoch 131/300\n",
            "20/20 [==============================] - 1s 58ms/step - loss: 0.0873 - val_loss: 0.0800\n",
            "Epoch 132/300\n",
            "20/20 [==============================] - 1s 58ms/step - loss: 0.0790 - val_loss: 0.0683\n",
            "Epoch 133/300\n",
            "20/20 [==============================] - 1s 58ms/step - loss: 0.0847 - val_loss: 0.0755\n",
            "Epoch 134/300\n",
            "20/20 [==============================] - 1s 58ms/step - loss: 0.0970 - val_loss: 0.0729\n",
            "Epoch 135/300\n",
            "20/20 [==============================] - 1s 59ms/step - loss: 0.0970 - val_loss: 0.0747\n",
            "Epoch 136/300\n",
            "20/20 [==============================] - 1s 58ms/step - loss: 0.0839 - val_loss: 0.0683\n",
            "Epoch 137/300\n",
            "20/20 [==============================] - 1s 57ms/step - loss: 0.0804 - val_loss: 0.0849\n",
            "Epoch 138/300\n",
            "20/20 [==============================] - 1s 59ms/step - loss: 0.0749 - val_loss: 0.0789\n",
            "Epoch 139/300\n",
            "20/20 [==============================] - 1s 59ms/step - loss: 0.0792 - val_loss: 0.0804\n",
            "Epoch 140/300\n",
            "20/20 [==============================] - 1s 60ms/step - loss: 0.0898 - val_loss: 0.0795\n",
            "Epoch 141/300\n",
            "20/20 [==============================] - 1s 59ms/step - loss: 0.0812 - val_loss: 0.0894\n",
            "Epoch 142/300\n",
            "20/20 [==============================] - 1s 60ms/step - loss: 0.0968 - val_loss: 0.0741\n",
            "Epoch 143/300\n",
            "20/20 [==============================] - 1s 59ms/step - loss: 0.0837 - val_loss: 0.0691\n",
            "Epoch 144/300\n",
            "20/20 [==============================] - 1s 58ms/step - loss: 0.0807 - val_loss: 0.0709\n",
            "Epoch 145/300\n",
            "20/20 [==============================] - 1s 59ms/step - loss: 0.0826 - val_loss: 0.0745\n",
            "Epoch 146/300\n",
            "20/20 [==============================] - 1s 59ms/step - loss: 0.0886 - val_loss: 0.0766\n",
            "Epoch 147/300\n",
            "20/20 [==============================] - 1s 61ms/step - loss: 0.0867 - val_loss: 0.0674\n",
            "Epoch 148/300\n",
            "20/20 [==============================] - 1s 58ms/step - loss: 0.0827 - val_loss: 0.0795\n",
            "Epoch 149/300\n",
            "20/20 [==============================] - 1s 60ms/step - loss: 0.0748 - val_loss: 0.0785\n",
            "Epoch 150/300\n",
            "20/20 [==============================] - 1s 58ms/step - loss: 0.0887 - val_loss: 0.0851\n",
            "Epoch 151/300\n",
            "20/20 [==============================] - 1s 59ms/step - loss: 0.0860 - val_loss: 0.0706\n",
            "Epoch 152/300\n",
            "20/20 [==============================] - 1s 59ms/step - loss: 0.0833 - val_loss: 0.0785\n",
            "Epoch 153/300\n",
            "20/20 [==============================] - 1s 59ms/step - loss: 0.0839 - val_loss: 0.0751\n",
            "Epoch 154/300\n",
            "20/20 [==============================] - 1s 58ms/step - loss: 0.0779 - val_loss: 0.0874\n",
            "Epoch 155/300\n",
            "20/20 [==============================] - 1s 60ms/step - loss: 0.0762 - val_loss: 0.0687\n",
            "Epoch 156/300\n",
            "20/20 [==============================] - 1s 58ms/step - loss: 0.0848 - val_loss: 0.0735\n",
            "Epoch 157/300\n",
            "20/20 [==============================] - 1s 59ms/step - loss: 0.0810 - val_loss: 0.0687\n",
            "Epoch 158/300\n",
            "20/20 [==============================] - 1s 58ms/step - loss: 0.0860 - val_loss: 0.0748\n",
            "Epoch 159/300\n",
            "20/20 [==============================] - 1s 59ms/step - loss: 0.0784 - val_loss: 0.0754\n",
            "Epoch 160/300\n",
            "20/20 [==============================] - 1s 60ms/step - loss: 0.0815 - val_loss: 0.0720\n",
            "Epoch 161/300\n",
            "20/20 [==============================] - 1s 58ms/step - loss: 0.0794 - val_loss: 0.0757\n",
            "Epoch 162/300\n",
            "20/20 [==============================] - 1s 57ms/step - loss: 0.0920 - val_loss: 0.0862\n",
            "Epoch 163/300\n",
            "20/20 [==============================] - 1s 58ms/step - loss: 0.0916 - val_loss: 0.0828\n",
            "Epoch 164/300\n",
            "20/20 [==============================] - 1s 59ms/step - loss: 0.0809 - val_loss: 0.0730\n",
            "Epoch 165/300\n",
            "20/20 [==============================] - 1s 60ms/step - loss: 0.0843 - val_loss: 0.0741\n",
            "Epoch 166/300\n",
            "20/20 [==============================] - 1s 60ms/step - loss: 0.0879 - val_loss: 0.0740\n",
            "Epoch 167/300\n",
            "20/20 [==============================] - 1s 58ms/step - loss: 0.0829 - val_loss: 0.0878\n",
            "Epoch 168/300\n",
            "20/20 [==============================] - 1s 60ms/step - loss: 0.0908 - val_loss: 0.0979\n",
            "Epoch 169/300\n",
            "20/20 [==============================] - 1s 64ms/step - loss: 0.0953 - val_loss: 0.0688\n",
            "Epoch 170/300\n",
            "20/20 [==============================] - 1s 65ms/step - loss: 0.0804 - val_loss: 0.0723\n",
            "Epoch 171/300\n",
            "20/20 [==============================] - 1s 65ms/step - loss: 0.0778 - val_loss: 0.0723\n",
            "Epoch 172/300\n",
            "20/20 [==============================] - 1s 65ms/step - loss: 0.0789 - val_loss: 0.0702\n",
            "Epoch 173/300\n",
            "20/20 [==============================] - 1s 65ms/step - loss: 0.0842 - val_loss: 0.0709\n",
            "Epoch 174/300\n",
            "20/20 [==============================] - 1s 64ms/step - loss: 0.0808 - val_loss: 0.0733\n",
            "Epoch 175/300\n",
            "20/20 [==============================] - 1s 64ms/step - loss: 0.0750 - val_loss: 0.0820\n",
            "Epoch 176/300\n",
            "20/20 [==============================] - 1s 63ms/step - loss: 0.0884 - val_loss: 0.0737\n",
            "Epoch 177/300\n",
            "20/20 [==============================] - 1s 61ms/step - loss: 0.0804 - val_loss: 0.0721\n",
            "Epoch 178/300\n",
            "20/20 [==============================] - 1s 58ms/step - loss: 0.0844 - val_loss: 0.0763\n",
            "Epoch 179/300\n",
            "20/20 [==============================] - 1s 58ms/step - loss: 0.0871 - val_loss: 0.0696\n",
            "Epoch 180/300\n",
            "20/20 [==============================] - 1s 58ms/step - loss: 0.0793 - val_loss: 0.0677\n",
            "Epoch 181/300\n",
            "20/20 [==============================] - 1s 59ms/step - loss: 0.0844 - val_loss: 0.0684\n",
            "Epoch 182/300\n",
            "20/20 [==============================] - 1s 59ms/step - loss: 0.0748 - val_loss: 0.0700\n",
            "Epoch 183/300\n",
            "20/20 [==============================] - 1s 59ms/step - loss: 0.0787 - val_loss: 0.0810\n",
            "Epoch 184/300\n",
            "20/20 [==============================] - 1s 59ms/step - loss: 0.0750 - val_loss: 0.0782\n",
            "Epoch 185/300\n",
            "20/20 [==============================] - 1s 58ms/step - loss: 0.0816 - val_loss: 0.0676\n",
            "Epoch 186/300\n",
            "20/20 [==============================] - 1s 60ms/step - loss: 0.0890 - val_loss: 0.0731\n",
            "Epoch 187/300\n",
            "20/20 [==============================] - 1s 59ms/step - loss: 0.0775 - val_loss: 0.0697\n",
            "Epoch 188/300\n",
            "20/20 [==============================] - 1s 60ms/step - loss: 0.0834 - val_loss: 0.0888\n",
            "Epoch 189/300\n",
            "20/20 [==============================] - 1s 60ms/step - loss: 0.0754 - val_loss: 0.0749\n",
            "Epoch 190/300\n",
            "20/20 [==============================] - 1s 61ms/step - loss: 0.0754 - val_loss: 0.0732\n",
            "Epoch 191/300\n",
            "20/20 [==============================] - 1s 61ms/step - loss: 0.0908 - val_loss: 0.0722\n",
            "Epoch 192/300\n",
            "20/20 [==============================] - 1s 59ms/step - loss: 0.0731 - val_loss: 0.0727\n",
            "Epoch 193/300\n",
            "20/20 [==============================] - 1s 60ms/step - loss: 0.0815 - val_loss: 0.0711\n",
            "Epoch 194/300\n",
            "20/20 [==============================] - 1s 62ms/step - loss: 0.0835 - val_loss: 0.0724\n",
            "Epoch 195/300\n",
            "20/20 [==============================] - 1s 59ms/step - loss: 0.0783 - val_loss: 0.0718\n",
            "Epoch 196/300\n",
            "20/20 [==============================] - 1s 60ms/step - loss: 0.0820 - val_loss: 0.0736\n",
            "Epoch 197/300\n",
            "20/20 [==============================] - 1s 61ms/step - loss: 0.0863 - val_loss: 0.0697\n",
            "Epoch 198/300\n",
            "20/20 [==============================] - 1s 60ms/step - loss: 0.0734 - val_loss: 0.0803\n",
            "Epoch 199/300\n",
            "20/20 [==============================] - 1s 61ms/step - loss: 0.0768 - val_loss: 0.0692\n",
            "Epoch 200/300\n",
            "20/20 [==============================] - 1s 59ms/step - loss: 0.0835 - val_loss: 0.0719\n",
            "Epoch 201/300\n",
            "20/20 [==============================] - 1s 61ms/step - loss: 0.0862 - val_loss: 0.0728\n",
            "Epoch 202/300\n",
            "20/20 [==============================] - 1s 61ms/step - loss: 0.0744 - val_loss: 0.0699\n",
            "Epoch 203/300\n",
            "20/20 [==============================] - 1s 60ms/step - loss: 0.0774 - val_loss: 0.0752\n",
            "Epoch 204/300\n",
            "20/20 [==============================] - 1s 59ms/step - loss: 0.0731 - val_loss: 0.0635\n",
            "Epoch 205/300\n",
            "20/20 [==============================] - 1s 62ms/step - loss: 0.0812 - val_loss: 0.0689\n",
            "Epoch 206/300\n",
            "20/20 [==============================] - 1s 60ms/step - loss: 0.0824 - val_loss: 0.0720\n",
            "Epoch 207/300\n",
            "20/20 [==============================] - 1s 59ms/step - loss: 0.0846 - val_loss: 0.0736\n",
            "Epoch 208/300\n",
            "20/20 [==============================] - 1s 59ms/step - loss: 0.0854 - val_loss: 0.0705\n",
            "Epoch 209/300\n",
            "20/20 [==============================] - 1s 58ms/step - loss: 0.0764 - val_loss: 0.0824\n",
            "Epoch 210/300\n",
            "20/20 [==============================] - 1s 61ms/step - loss: 0.0852 - val_loss: 0.0936\n",
            "Epoch 211/300\n",
            "20/20 [==============================] - 1s 59ms/step - loss: 0.0768 - val_loss: 0.0804\n",
            "Epoch 212/300\n",
            "20/20 [==============================] - 1s 61ms/step - loss: 0.0755 - val_loss: 0.0770\n",
            "Epoch 213/300\n",
            "20/20 [==============================] - 1s 61ms/step - loss: 0.0938 - val_loss: 0.0731\n",
            "Epoch 214/300\n",
            "20/20 [==============================] - 1s 60ms/step - loss: 0.0809 - val_loss: 0.0713\n",
            "Epoch 215/300\n",
            "20/20 [==============================] - 1s 62ms/step - loss: 0.0787 - val_loss: 0.0687\n",
            "Epoch 216/300\n",
            "20/20 [==============================] - 1s 59ms/step - loss: 0.0764 - val_loss: 0.0692\n",
            "Epoch 217/300\n",
            "20/20 [==============================] - 1s 61ms/step - loss: 0.0756 - val_loss: 0.0764\n",
            "Epoch 218/300\n",
            "20/20 [==============================] - 1s 60ms/step - loss: 0.0734 - val_loss: 0.0757\n",
            "Epoch 219/300\n",
            "20/20 [==============================] - 1s 61ms/step - loss: 0.0795 - val_loss: 0.0788\n",
            "Epoch 220/300\n",
            "20/20 [==============================] - 1s 61ms/step - loss: 0.0776 - val_loss: 0.0768\n",
            "Epoch 221/300\n",
            "20/20 [==============================] - 1s 61ms/step - loss: 0.0848 - val_loss: 0.0788\n",
            "Epoch 222/300\n",
            "20/20 [==============================] - 1s 61ms/step - loss: 0.0742 - val_loss: 0.0790\n",
            "Epoch 223/300\n",
            "20/20 [==============================] - 1s 61ms/step - loss: 0.0798 - val_loss: 0.0803\n",
            "Epoch 224/300\n",
            "20/20 [==============================] - 1s 61ms/step - loss: 0.0826 - val_loss: 0.0779\n",
            "Epoch 225/300\n",
            "20/20 [==============================] - 1s 60ms/step - loss: 0.0951 - val_loss: 0.0733\n",
            "Epoch 226/300\n",
            "20/20 [==============================] - 1s 59ms/step - loss: 0.0778 - val_loss: 0.0748\n",
            "Epoch 227/300\n",
            "20/20 [==============================] - 1s 59ms/step - loss: 0.0823 - val_loss: 0.0716\n",
            "Epoch 228/300\n",
            "20/20 [==============================] - 1s 59ms/step - loss: 0.0850 - val_loss: 0.0772\n",
            "Epoch 229/300\n",
            "20/20 [==============================] - 1s 60ms/step - loss: 0.0863 - val_loss: 0.0744\n",
            "Epoch 230/300\n",
            "20/20 [==============================] - 1s 62ms/step - loss: 0.0785 - val_loss: 0.0699\n",
            "Epoch 231/300\n",
            "20/20 [==============================] - 1s 59ms/step - loss: 0.0807 - val_loss: 0.0733\n",
            "Epoch 232/300\n",
            "20/20 [==============================] - 1s 60ms/step - loss: 0.0776 - val_loss: 0.0762\n",
            "Epoch 233/300\n",
            "20/20 [==============================] - 1s 59ms/step - loss: 0.0683 - val_loss: 0.0749\n",
            "Epoch 234/300\n",
            "20/20 [==============================] - 1s 61ms/step - loss: 0.0788 - val_loss: 0.0665\n",
            "Epoch 235/300\n",
            "20/20 [==============================] - 1s 59ms/step - loss: 0.0697 - val_loss: 0.0797\n",
            "Epoch 236/300\n",
            "20/20 [==============================] - 1s 60ms/step - loss: 0.0770 - val_loss: 0.0708\n",
            "Epoch 237/300\n",
            "20/20 [==============================] - 1s 61ms/step - loss: 0.0792 - val_loss: 0.0830\n",
            "Epoch 238/300\n",
            "20/20 [==============================] - 1s 60ms/step - loss: 0.0784 - val_loss: 0.0795\n",
            "Epoch 239/300\n",
            "20/20 [==============================] - 1s 61ms/step - loss: 0.0730 - val_loss: 0.0645\n",
            "Epoch 240/300\n",
            "20/20 [==============================] - 1s 61ms/step - loss: 0.0741 - val_loss: 0.0722\n",
            "Epoch 241/300\n",
            "20/20 [==============================] - 1s 60ms/step - loss: 0.0740 - val_loss: 0.0680\n",
            "Epoch 242/300\n",
            "20/20 [==============================] - 1s 59ms/step - loss: 0.0685 - val_loss: 0.0832\n",
            "Epoch 243/300\n",
            "20/20 [==============================] - 1s 60ms/step - loss: 0.0766 - val_loss: 0.0717\n",
            "Epoch 244/300\n",
            "20/20 [==============================] - 1s 61ms/step - loss: 0.0782 - val_loss: 0.0811\n",
            "Epoch 245/300\n",
            "20/20 [==============================] - 1s 60ms/step - loss: 0.0660 - val_loss: 0.0720\n",
            "Epoch 246/300\n",
            "20/20 [==============================] - 1s 60ms/step - loss: 0.0788 - val_loss: 0.0731\n",
            "Epoch 247/300\n",
            "20/20 [==============================] - 1s 61ms/step - loss: 0.0835 - val_loss: 0.0681\n",
            "Epoch 248/300\n",
            "20/20 [==============================] - 1s 61ms/step - loss: 0.0756 - val_loss: 0.0787\n",
            "Epoch 249/300\n",
            "20/20 [==============================] - 1s 62ms/step - loss: 0.0711 - val_loss: 0.0740\n",
            "Epoch 250/300\n",
            "20/20 [==============================] - 1s 60ms/step - loss: 0.0811 - val_loss: 0.0695\n",
            "Epoch 251/300\n",
            "20/20 [==============================] - 1s 60ms/step - loss: 0.0731 - val_loss: 0.0710\n",
            "Epoch 252/300\n",
            "20/20 [==============================] - 1s 61ms/step - loss: 0.0739 - val_loss: 0.0768\n",
            "Epoch 253/300\n",
            "20/20 [==============================] - 1s 60ms/step - loss: 0.0739 - val_loss: 0.0784\n",
            "Epoch 254/300\n",
            "20/20 [==============================] - 1s 60ms/step - loss: 0.0816 - val_loss: 0.0739\n",
            "Epoch 255/300\n",
            "20/20 [==============================] - 1s 60ms/step - loss: 0.0820 - val_loss: 0.0725\n",
            "Epoch 256/300\n",
            "20/20 [==============================] - 1s 62ms/step - loss: 0.0810 - val_loss: 0.0712\n",
            "Epoch 257/300\n",
            "20/20 [==============================] - 1s 65ms/step - loss: 0.0837 - val_loss: 0.0644\n",
            "Epoch 258/300\n",
            "20/20 [==============================] - 1s 65ms/step - loss: 0.0675 - val_loss: 0.0645\n",
            "Epoch 259/300\n",
            "20/20 [==============================] - 1s 66ms/step - loss: 0.0689 - val_loss: 0.0711\n",
            "Epoch 260/300\n",
            "20/20 [==============================] - 1s 65ms/step - loss: 0.0723 - val_loss: 0.0757\n",
            "Epoch 261/300\n",
            "20/20 [==============================] - 1s 64ms/step - loss: 0.0752 - val_loss: 0.0727\n",
            "Epoch 262/300\n",
            "20/20 [==============================] - 1s 60ms/step - loss: 0.0742 - val_loss: 0.0666\n",
            "Epoch 263/300\n",
            "20/20 [==============================] - 1s 60ms/step - loss: 0.0733 - val_loss: 0.0697\n",
            "Epoch 264/300\n",
            "20/20 [==============================] - 1s 63ms/step - loss: 0.0737 - val_loss: 0.0728\n",
            "Epoch 265/300\n",
            "20/20 [==============================] - 1s 61ms/step - loss: 0.0802 - val_loss: 0.0669\n",
            "Epoch 266/300\n",
            "20/20 [==============================] - 1s 61ms/step - loss: 0.0722 - val_loss: 0.0768\n",
            "Epoch 267/300\n",
            "20/20 [==============================] - 1s 59ms/step - loss: 0.0771 - val_loss: 0.0724\n",
            "Epoch 268/300\n",
            "20/20 [==============================] - 1s 61ms/step - loss: 0.0658 - val_loss: 0.0670\n",
            "Epoch 269/300\n",
            "20/20 [==============================] - 1s 62ms/step - loss: 0.0695 - val_loss: 0.0772\n",
            "Epoch 270/300\n",
            "20/20 [==============================] - 1s 60ms/step - loss: 0.0732 - val_loss: 0.0634\n",
            "Epoch 271/300\n",
            "20/20 [==============================] - 1s 61ms/step - loss: 0.0735 - val_loss: 0.0749\n",
            "Epoch 272/300\n",
            "20/20 [==============================] - 1s 61ms/step - loss: 0.0763 - val_loss: 0.0652\n",
            "Epoch 273/300\n",
            "20/20 [==============================] - 1s 63ms/step - loss: 0.0701 - val_loss: 0.0717\n",
            "Epoch 274/300\n",
            "20/20 [==============================] - 1s 62ms/step - loss: 0.0803 - val_loss: 0.0685\n",
            "Epoch 275/300\n",
            "20/20 [==============================] - 1s 60ms/step - loss: 0.0804 - val_loss: 0.0750\n",
            "Epoch 276/300\n",
            "20/20 [==============================] - 1s 61ms/step - loss: 0.0808 - val_loss: 0.0701\n",
            "Epoch 277/300\n",
            "20/20 [==============================] - 1s 60ms/step - loss: 0.0760 - val_loss: 0.0730\n",
            "Epoch 278/300\n",
            "20/20 [==============================] - 1s 59ms/step - loss: 0.0734 - val_loss: 0.0741\n",
            "Epoch 279/300\n",
            "20/20 [==============================] - 1s 58ms/step - loss: 0.0801 - val_loss: 0.0688\n",
            "Epoch 280/300\n",
            "20/20 [==============================] - 1s 60ms/step - loss: 0.0749 - val_loss: 0.0839\n",
            "Epoch 281/300\n",
            "20/20 [==============================] - 1s 61ms/step - loss: 0.0783 - val_loss: 0.0755\n",
            "Epoch 282/300\n",
            "20/20 [==============================] - 1s 60ms/step - loss: 0.0766 - val_loss: 0.0837\n",
            "Epoch 283/300\n",
            "20/20 [==============================] - 1s 60ms/step - loss: 0.0863 - val_loss: 0.0746\n",
            "Epoch 284/300\n",
            "20/20 [==============================] - 1s 60ms/step - loss: 0.0779 - val_loss: 0.0723\n",
            "Epoch 285/300\n",
            "20/20 [==============================] - 1s 63ms/step - loss: 0.0768 - val_loss: 0.0662\n",
            "Epoch 286/300\n",
            "20/20 [==============================] - 1s 60ms/step - loss: 0.0800 - val_loss: 0.0808\n",
            "Epoch 287/300\n",
            "20/20 [==============================] - 1s 61ms/step - loss: 0.0730 - val_loss: 0.0801\n",
            "Epoch 288/300\n",
            "20/20 [==============================] - 1s 61ms/step - loss: 0.0745 - val_loss: 0.0654\n",
            "Epoch 289/300\n",
            "20/20 [==============================] - 1s 62ms/step - loss: 0.0761 - val_loss: 0.0704\n",
            "Epoch 290/300\n",
            "20/20 [==============================] - 1s 62ms/step - loss: 0.0722 - val_loss: 0.0804\n",
            "Epoch 291/300\n",
            "20/20 [==============================] - 1s 61ms/step - loss: 0.0698 - val_loss: 0.0726\n",
            "Epoch 292/300\n",
            "20/20 [==============================] - 1s 60ms/step - loss: 0.0701 - val_loss: 0.0808\n",
            "Epoch 293/300\n",
            "20/20 [==============================] - 1s 61ms/step - loss: 0.0717 - val_loss: 0.0696\n",
            "Epoch 294/300\n",
            "20/20 [==============================] - 1s 61ms/step - loss: 0.0709 - val_loss: 0.0674\n",
            "Epoch 295/300\n",
            "20/20 [==============================] - 1s 60ms/step - loss: 0.0762 - val_loss: 0.0756\n",
            "Epoch 296/300\n",
            "20/20 [==============================] - 1s 60ms/step - loss: 0.0745 - val_loss: 0.0663\n",
            "Epoch 297/300\n",
            "20/20 [==============================] - 1s 61ms/step - loss: 0.0741 - val_loss: 0.0844\n",
            "Epoch 298/300\n",
            "20/20 [==============================] - 1s 62ms/step - loss: 0.0714 - val_loss: 0.0751\n",
            "Epoch 299/300\n",
            "20/20 [==============================] - 1s 61ms/step - loss: 0.0773 - val_loss: 0.0796\n",
            "Epoch 300/300\n",
            "20/20 [==============================] - 1s 61ms/step - loss: 0.0760 - val_loss: 0.0706\n"
          ],
          "name": "stdout"
        }
      ]
    },
    {
      "cell_type": "code",
      "metadata": {
        "colab": {
          "base_uri": "https://localhost:8080/",
          "height": 283
        },
        "id": "yrdMzLJ37SQ3",
        "outputId": "c1b8808f-4c89-451a-b830-547e3142d445"
      },
      "source": [
        "plt.plot(history.history['loss'], label='Training loss')\n",
        "plt.plot(history.history['val_loss'], label='Validation loss')\n",
        "plt.legend()"
      ],
      "execution_count": null,
      "outputs": [
        {
          "output_type": "execute_result",
          "data": {
            "text/plain": [
              "<matplotlib.legend.Legend at 0x7fe54d7c2e90>"
            ]
          },
          "metadata": {
            "tags": []
          },
          "execution_count": 128
        },
        {
          "output_type": "display_data",
          "data": {
            "image/png": "[encoded data removed]",
            "text/plain": [
              "<Figure size 432x288 with 1 Axes>"
            ]
          },
          "metadata": {
            "tags": [],
            "needs_background": "light"
          }
        }
      ]
    },
    {
      "cell_type": "code",
      "metadata": {
        "id": "-QuKPc-47SQ3"
      },
      "source": [
        "#model.evaluate(testX, testY)"
      ],
      "execution_count": null,
      "outputs": []
    },
    {
      "cell_type": "code",
      "metadata": {
        "id": "PAPusVPX7SQ4"
      },
      "source": [
        "###########################\n",
        "#Anomaly is where reconstruction error is large.\n",
        "#We can define this value beyond which we call anomaly.\n",
        "#Let us look at MAE in training prediction"
      ],
      "execution_count": null,
      "outputs": []
    },
    {
      "cell_type": "code",
      "metadata": {
        "colab": {
          "base_uri": "https://localhost:8080/",
          "height": 265
        },
        "id": "Awt7EDNT7SQ4",
        "outputId": "88ef60a7-0887-4498-ab61-adefaa2a354d"
      },
      "source": [
        "trainPredict = model.predict(trainX)\n",
        "trainMAE = np.mean(np.abs(trainPredict - trainX), axis=1)\n",
        "plt.hist(trainMAE, bins=30)\n",
        "max_trainMAE = 2.5 #or Define 90% value of max as threshold."
      ],
      "execution_count": null,
      "outputs": [
        {
          "output_type": "display_data",
          "data": {
            "image/png": "[encoded data removed]",
            "text/plain": [
              "<Figure size 432x288 with 1 Axes>"
            ]
          },
          "metadata": {
            "tags": [],
            "needs_background": "light"
          }
        }
      ]
    },
    {
      "cell_type": "code",
      "metadata": {
        "colab": {
          "base_uri": "https://localhost:8080/",
          "height": 465
        },
        "id": "BOzQuLMG7SQ4",
        "outputId": "4372409b-8f4d-4ec2-edfc-da9b87181c66"
      },
      "source": [
        "testPredict = model.predict(testX)\n",
        "testMAE = np.mean(np.abs(testPredict - testX), axis=1)\n",
        "plt.hist(testMAE, bins=30)"
      ],
      "execution_count": null,
      "outputs": [
        {
          "output_type": "execute_result",
          "data": {
            "text/plain": [
              "(array([28., 26., 38., 34., 16., 15., 12.,  5.,  2.,  4.,  2.,  2.,  2.,\n",
              "         3.,  2.,  4.,  3.,  3.,  3.,  5.,  4.,  4.,  4.,  5.,  5.,  4.,\n",
              "         9.,  6., 41., 16.]),\n",
              " array([0.50394609, 0.6523591 , 0.80077211, 0.94918512, 1.09759813,\n",
              "        1.24601114, 1.39442415, 1.54283716, 1.69125017, 1.83966318,\n",
              "        1.98807619, 2.1364892 , 2.28490221, 2.43331522, 2.58172823,\n",
              "        2.73014124, 2.87855425, 3.02696726, 3.17538027, 3.32379328,\n",
              "        3.47220629, 3.6206193 , 3.76903231, 3.91744532, 4.06585833,\n",
              "        4.21427134, 4.36268435, 4.51109736, 4.65951037, 4.80792338,\n",
              "        4.95633639]),\n",
              " <a list of 30 Patch objects>)"
            ]
          },
          "metadata": {
            "tags": []
          },
          "execution_count": 130
        },
        {
          "output_type": "display_data",
          "data": {
            "image/png": "[encoded data removed]",
            "text/plain": [
              "<Figure size 432x288 with 1 Axes>"
            ]
          },
          "metadata": {
            "tags": [],
            "needs_background": "light"
          }
        }
      ]
    },
    {
      "cell_type": "code",
      "metadata": {
        "id": "A8h-Wj617SQ5"
      },
      "source": [
        "#Capture all details in a DataFrame for easy plotting\n",
        "anomaly_df = pd.DataFrame(test[seq_size:])\n",
        "anomaly_df['testMAE'] = testMAE\n",
        "anomaly_df['max_trainMAE'] = max_trainMAE\n",
        "anomaly_df['anomaly'] = anomaly_df['testMAE'] > anomaly_df['max_trainMAE']\n",
        "anomaly_df['WL'] = test[seq_size:]['WL']"
      ],
      "execution_count": null,
      "outputs": []
    },
    {
      "cell_type": "code",
      "metadata": {
        "colab": {
          "base_uri": "https://localhost:8080/",
          "height": 297
        },
        "id": "U4Mvl5CG7SQ6",
        "outputId": "73deed2e-5a75-4d4d-cd52-b7caceb04c4a"
      },
      "source": [
        "#Plot testMAE vs max_trainMAE\n",
        "sns.lineplot(x=anomaly_df['Date'], y=anomaly_df['testMAE'])\n",
        "sns.lineplot(x=anomaly_df['Date'], y=anomaly_df['max_trainMAE'])"
      ],
      "execution_count": null,
      "outputs": [
        {
          "output_type": "execute_result",
          "data": {
            "text/plain": [
              "<matplotlib.axes._subplots.AxesSubplot at 0x7fe54d483e10>"
            ]
          },
          "metadata": {
            "tags": []
          },
          "execution_count": 132
        },
        {
          "output_type": "display_data",
          "data": {
            "image/png": "[encoded data removed]",
            "text/plain": [
              "<Figure size 432x288 with 1 Axes>"
            ]
          },
          "metadata": {
            "tags": [],
            "needs_background": "light"
          }
        }
      ]
    },
    {
      "cell_type": "code",
      "metadata": {
        "id": "mxOCpLNT7SQ6"
      },
      "source": [
        "anomalies = anomaly_df.loc[anomaly_df['anomaly'] == True]\n",
        "#print(anomalies)"
      ],
      "execution_count": null,
      "outputs": []
    },
    {
      "cell_type": "code",
      "metadata": {
        "colab": {
          "base_uri": "https://localhost:8080/",
          "height": 297
        },
        "id": "vXgNfo7n7SQ6",
        "outputId": "f4a31190-4ae5-4a21-8bbd-a8e86f9a773f"
      },
      "source": [
        "#Plot anomalies\n",
        "sns.lineplot(x=anomaly_df['Date'], y=scaler.inverse_transform(anomaly_df['WL']))\n",
        "sns.scatterplot(x=anomalies['Date'], y=scaler.inverse_transform(anomalies['WL']), color='r')\n"
      ],
      "execution_count": null,
      "outputs": [
        {
          "output_type": "execute_result",
          "data": {
            "text/plain": [
              "<matplotlib.axes._subplots.AxesSubplot at 0x7fe54d32a690>"
            ]
          },
          "metadata": {
            "tags": []
          },
          "execution_count": 134
        },
        {
          "output_type": "display_data",
          "data": {
            "image/png": "[encoded data removed]",
            "text/plain": [
              "<Figure size 432x288 with 1 Axes>"
            ]
          },
          "metadata": {
            "tags": [],
            "needs_background": "light"
          }
        }
      ]
    },
    {
      "cell_type": "code",
      "metadata": {
        "id": "wb4InG8k7SQ6"
      },
      "source": [],
      "execution_count": null,
      "outputs": []
    },
    {
      "cell_type": "code",
      "metadata": {
        "id": "OJpDr5Hb7SQ7"
      },
      "source": [],
      "execution_count": null,
      "outputs": []
    },
    {
      "cell_type": "code",
      "metadata": {
        "id": "LVGivQ2E7SQ7"
      },
      "source": [],
      "execution_count": null,
      "outputs": []
    }
  ]
}