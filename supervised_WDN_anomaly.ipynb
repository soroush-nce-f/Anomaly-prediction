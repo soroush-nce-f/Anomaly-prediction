{
  "nbformat": 4,
  "nbformat_minor": 0,
  "metadata": {
    "colab": {
      "provenance": []
    },
    "kernelspec": {
      "name": "python3",
      "display_name": "Python 3"
    },
    "language_info": {
      "name": "python"
    },
    "accelerator": "GPU"
  },
  "cells": [
    {
      "cell_type": "code",
      "metadata": {
        "id": "pOsTUZmpBJ5U"
      },
      "source": [
        "# Import modules and packages\n",
        "import numpy as np\n",
        "import pandas as pd\n",
        "from datetime import datetime\n",
        "from datetime import timedelta\n",
        "import matplotlib.pyplot as plt\n",
        "from pandas.plotting import register_matplotlib_converters\n",
        "register_matplotlib_converters()\n",
        "from time import time\n",
        "import math\n",
        "import seaborn as sns\n",
        "import datetime as dt\n",
        "from datetime import datetime\n",
        "from sklearn.metrics import mean_squared_error, mean_absolute_error, r2_score\n",
        "from keras.callbacks import EarlyStopping, ReduceLROnPlateau, ModelCheckpoint, TensorBoard\n",
        "from sklearn.preprocessing import LabelEncoder\n",
        "from sklearn.preprocessing import OneHotEncoder\n",
        "%matplotlib inline"
      ],
      "execution_count": null,
      "outputs": []
    },
    {
      "cell_type": "code",
      "metadata": {
        "id": "9QudEabeBLP2"
      },
      "source": [
        "#Importing Training Set\n",
        "df = pd.read_csv('Dataset_labeled.csv')\n",
        "df = df[['DATETIME']]\n",
        "df['DATETIME'] = pd.to_datetime(df['DATETIME'])\n",
        "\n",
        "dataset_train = pd.read_csv('Dataset_labeled.csv')\n",
        "#Separate dates for future plotting\n",
        "train_dates = pd.to_datetime(dataset_train['DATETIME'])\n"
      ],
      "execution_count": null,
      "outputs": []
    },
    {
      "cell_type": "code",
      "metadata": {
        "colab": {
          "base_uri": "https://localhost:8080/"
        },
        "id": "Yg1o4IthBLS4",
        "outputId": "d31566c2-df91-4303-ef8e-228dbfad433f"
      },
      "source": [
        "# Select features (columns) to be involved intro training and predictions\n",
        "cols = list(dataset_train)[1:9]\n",
        "\n",
        "# Extract dates (will be used in visualization)\n",
        "datelist_train = list(dataset_train['DATETIME'])\n",
        "datelist_train = [dt.datetime.strptime(date, '%d/%m/%y %H').date() for date in datelist_train]\n",
        "#print(datelist_train)\n",
        "#print(dataset_train)\n",
        "print('Training set shape == {}'.format(dataset_train.shape))\n",
        "print('All timestamps == {}'.format(len(datelist_train)))\n",
        "print('Featured selected: {}'.format(cols))"
      ],
      "execution_count": null,
      "outputs": [
        {
          "output_type": "stream",
          "name": "stdout",
          "text": [
            "Training set shape == (6266, 12)\n",
            "All timestamps == 6266\n",
            "Featured selected: [' L_T1', ' L_T2', ' L_T3', ' L_T4', ' L_T5', ' L_T6', ' L_T7', ' FLAG']\n"
          ]
        }
      ]
    },
    {
      "cell_type": "code",
      "metadata": {
        "colab": {
          "base_uri": "https://localhost:8080/"
        },
        "id": "X7TSNMhEBLVf",
        "outputId": "9bb688ba-713a-4354-fd90-f6e1c8403429"
      },
      "source": [
        "dataset = dataset_train[cols].astype(str)\n",
        "print(len(dataset))"
      ],
      "execution_count": null,
      "outputs": [
        {
          "output_type": "stream",
          "name": "stdout",
          "text": [
            "6266\n"
          ]
        }
      ]
    },
    {
      "cell_type": "code",
      "metadata": {
        "colab": {
          "base_uri": "https://localhost:8080/"
        },
        "id": "rNEDXO7PBLYS",
        "outputId": "98b06356-f1c4-4ce6-d8d8-5cfa443e8d74"
      },
      "source": [
        "dataset1 = dataset_train[cols].astype(str)\n",
        "print(len(dataset1))\n",
        "for i in cols:\n",
        "    for j in range(0, len(dataset1)):\n",
        "        dataset[i][j] = dataset1[i][j].replace(',', '')\n",
        "\n",
        "     \n",
        "    \n",
        "dataset_train = dataset[:4177].astype(float)\n",
        "dataset_test = dataset[4177:].astype(float)\n",
        "\n",
        "dataset_T = dataset.astype(float).values   \n",
        "# Using multiple features (predictors)\n",
        "training_set = dataset_train.values\n",
        "testing_set = dataset_test.values\n",
        "\n",
        "print('Shape of training set == {}.'.format(training_set.shape))\n",
        "print('Shape of testing set == {}.'.format(testing_set.shape))\n",
        "\n",
        "print(testing_set)"
      ],
      "execution_count": null,
      "outputs": [
        {
          "output_type": "stream",
          "name": "stdout",
          "text": [
            "6266\n",
            "Shape of training set == (4177, 8).\n",
            "Shape of testing set == (2089, 8).\n",
            "[[0.73 2.27 4.   ... 5.5  4.28 0.  ]\n",
            " [0.69 2.25 4.53 ... 5.5  4.78 0.  ]\n",
            " [0.9  2.31 5.03 ... 5.16 3.22 0.  ]\n",
            " ...\n",
            " [1.07 2.24 2.99 ... 5.12 1.78 0.  ]\n",
            " [0.85 2.14 3.44 ... 5.24 1.82 0.  ]\n",
            " [0.74 2.11 3.89 ... 5.29 1.62 0.  ]]\n"
          ]
        }
      ]
    },
    {
      "cell_type": "code",
      "metadata": {
        "colab": {
          "base_uri": "https://localhost:8080/"
        },
        "id": "lr5YD9T0BLbK",
        "outputId": "b3524877-5e55-4f4b-90e1-e7f56f8075c7"
      },
      "source": [
        "# Feature Scaling\n",
        "from sklearn.preprocessing import StandardScaler,MinMaxScaler\n",
        "sc = MinMaxScaler(feature_range=(0, 1))\n",
        "\n",
        "training_set_scaled = sc.fit_transform(training_set[:, 0:7])\n",
        "test_set_scaled =sc.fit_transform(testing_set[:, 0:7])\n",
        "print(test_set_scaled.shape)\n",
        "\n",
        "labelX = training_set[:, 7:8]\n",
        "labelY = testing_set[:, 7:8]\n",
        "print(labelY.shape)\n",
        "print(labelX.shape)\n",
        "\n",
        "#sc_predict = MinMaxScaler(feature_range=(0, 1))\n",
        "#sc_predict.fit_transform(dataset_T[:, 0:])"
      ],
      "execution_count": null,
      "outputs": [
        {
          "output_type": "stream",
          "name": "stdout",
          "text": [
            "(2089, 7)\n",
            "(2089, 1)\n",
            "(4177, 1)\n"
          ]
        }
      ]
    },
    {
      "cell_type": "code",
      "metadata": {
        "colab": {
          "base_uri": "https://localhost:8080/"
        },
        "id": "0bSABXlEBLdx",
        "outputId": "2f4ea443-cb88-4112-87c3-f6eb920ef40c"
      },
      "source": [
        "seq_size =1\n",
        "print(len(training_set_scaled))"
      ],
      "execution_count": null,
      "outputs": [
        {
          "output_type": "stream",
          "name": "stdout",
          "text": [
            "4177\n"
          ]
        }
      ]
    },
    {
      "cell_type": "code",
      "metadata": {
        "id": "LuekBbCCBLgT"
      },
      "source": [
        "def to_sequence(x, seq_size=1):\n",
        "    x_values = []\n",
        "    for i in range (len(x)-seq_size):\n",
        "        x_values.append(x[i:(i+seq_size)])\n",
        "        \n",
        "    return np.array(x_values)"
      ],
      "execution_count": null,
      "outputs": []
    },
    {
      "cell_type": "code",
      "metadata": {
        "id": "Kdk_R4RBBLsU"
      },
      "source": [
        "trainX = to_sequence(training_set_scaled, seq_size)\n",
        "testX = to_sequence(test_set_scaled, seq_size)"
      ],
      "execution_count": null,
      "outputs": []
    },
    {
      "cell_type": "code",
      "metadata": {
        "colab": {
          "base_uri": "https://localhost:8080/",
          "height": 248
        },
        "id": "1PNhDmWLBLvB",
        "outputId": "6206b3e7-b466-4868-e8b0-3a81c52f11f4"
      },
      "source": [
        "print(trainX.shape)\n",
        "print(trainY.shape)\n",
        "#trainX = np.reshape(trainX, (trainX.shape[0], trainX.shape[2],))\n",
        "#testX = np.reshape(testX, (testX.shape[0], testX.shape[2],))\n",
        "print(testX.shape)\n",
        "print(trainX.shape)"
      ],
      "execution_count": null,
      "outputs": [
        {
          "output_type": "stream",
          "name": "stdout",
          "text": [
            "(4176, 1, 7)\n"
          ]
        },
        {
          "output_type": "error",
          "ename": "NameError",
          "evalue": "ignored",
          "traceback": [
            "\u001b[0;31m---------------------------------------------------------------------------\u001b[0m",
            "\u001b[0;31mNameError\u001b[0m                                 Traceback (most recent call last)",
            "\u001b[0;32m<ipython-input-14-d82311076c30>\u001b[0m in \u001b[0;36m<module>\u001b[0;34m()\u001b[0m\n\u001b[1;32m      1\u001b[0m \u001b[0mprint\u001b[0m\u001b[0;34m(\u001b[0m\u001b[0mtrainX\u001b[0m\u001b[0;34m.\u001b[0m\u001b[0mshape\u001b[0m\u001b[0;34m)\u001b[0m\u001b[0;34m\u001b[0m\u001b[0;34m\u001b[0m\u001b[0m\n\u001b[0;32m----> 2\u001b[0;31m \u001b[0mprint\u001b[0m\u001b[0;34m(\u001b[0m\u001b[0mtrainY\u001b[0m\u001b[0;34m.\u001b[0m\u001b[0mshape\u001b[0m\u001b[0;34m)\u001b[0m\u001b[0;34m\u001b[0m\u001b[0;34m\u001b[0m\u001b[0m\n\u001b[0m\u001b[1;32m      3\u001b[0m \u001b[0;31m#trainX = np.reshape(trainX, (trainX.shape[0], trainX.shape[2],))\u001b[0m\u001b[0;34m\u001b[0m\u001b[0;34m\u001b[0m\u001b[0;34m\u001b[0m\u001b[0m\n\u001b[1;32m      4\u001b[0m \u001b[0;31m#testX = np.reshape(testX, (testX.shape[0], testX.shape[2],))\u001b[0m\u001b[0;34m\u001b[0m\u001b[0;34m\u001b[0m\u001b[0;34m\u001b[0m\u001b[0m\n\u001b[1;32m      5\u001b[0m \u001b[0mprint\u001b[0m\u001b[0;34m(\u001b[0m\u001b[0mtestX\u001b[0m\u001b[0;34m.\u001b[0m\u001b[0mshape\u001b[0m\u001b[0;34m)\u001b[0m\u001b[0;34m\u001b[0m\u001b[0;34m\u001b[0m\u001b[0m\n",
            "\u001b[0;31mNameError\u001b[0m: name 'trainY' is not defined"
          ]
        }
      ]
    },
    {
      "cell_type": "code",
      "metadata": {
        "id": "cokm6dN5Wwzg"
      },
      "source": [],
      "execution_count": null,
      "outputs": []
    },
    {
      "cell_type": "code",
      "metadata": {
        "colab": {
          "base_uri": "https://localhost:8080/"
        },
        "id": "K_hAYDWnYSKa",
        "outputId": "fc8faaa0-89f3-4f86-933f-1da6f4f51890"
      },
      "source": [
        "import numpy as np\n",
        "nb_classes = 8\n",
        "label = dataset_train[' FLAG'].astype(int)\n",
        "def indices_to_one_hot(data, nb_classes):\n",
        "    \"\"\"Convert an iterable of indices to one-hot encoded labels.\"\"\"\n",
        "    targets = np.array(data).reshape(-1)\n",
        "    return np.eye(nb_classes)[targets]\n",
        "\n",
        "labeled = indices_to_one_hot(label, nb_classes)\n",
        "labeled = np.reshape(labeled, (labeled.shape[0], 1, labeled.shape[1],))\n",
        "#trainY = trainY[1:]\n",
        "print(labeled.shape)"
      ],
      "execution_count": null,
      "outputs": [
        {
          "output_type": "stream",
          "name": "stdout",
          "text": [
            "(4177, 1, 8)\n"
          ]
        }
      ]
    },
    {
      "cell_type": "code",
      "metadata": {
        "colab": {
          "base_uri": "https://localhost:8080/"
        },
        "id": "4_D-pJs7rfRR",
        "outputId": "884dd20c-9677-4f1e-9c54-d3b2e9a010fd"
      },
      "source": [
        "print(labeled)"
      ],
      "execution_count": null,
      "outputs": [
        {
          "output_type": "stream",
          "name": "stdout",
          "text": [
            "[[[1. 0. 0. ... 0. 0. 0.]]\n",
            "\n",
            " [[1. 0. 0. ... 0. 0. 0.]]\n",
            "\n",
            " [[1. 0. 0. ... 0. 0. 0.]]\n",
            "\n",
            " ...\n",
            "\n",
            " [[1. 0. 0. ... 0. 0. 0.]]\n",
            "\n",
            " [[1. 0. 0. ... 0. 0. 0.]]\n",
            "\n",
            " [[1. 0. 0. ... 0. 0. 0.]]]\n"
          ]
        }
      ]
    },
    {
      "cell_type": "code",
      "metadata": {
        "id": "fL_il8H1BLx5"
      },
      "source": [
        "from keras.models import Sequential\n",
        "from keras.layers import Dense\n",
        "from keras.layers import TimeDistributed\n",
        "from keras.layers import RepeatVector\n",
        "from keras.layers import LSTM, GRU#, Conv1D, Conv1DTranspose\n",
        "from keras.layers import Dropout\n",
        "from tensorflow.keras.optimizers import Adam, RMSprop\n",
        "#from tensorflow.keras.metrics.Precision\n",
        "from keras import regularizers"
      ],
      "execution_count": null,
      "outputs": []
    },
    {
      "cell_type": "code",
      "metadata": {
        "colab": {
          "base_uri": "https://localhost:8080/"
        },
        "id": "uYQgyiaMBL0Z",
        "outputId": "a4b4cdc9-fc70-451d-e908-dbbb130dfa2e"
      },
      "source": [
        "## Initializing the Neural Network based on LSTM\n",
        "model = Sequential()\n",
        "model.add(Dense(units=128, activation='relu', input_dim=7 ))\n",
        "model.add(Dropout(0.5))\n",
        "#activation='relu', return_sequences=True,\n",
        "model.add(Dense(units=128, activation='relu'))\n",
        "model.add(Dropout(0.5))\n",
        "model.add(Dense(units=8, activation='softmax'))\n",
        "\n",
        "model.compile(loss='categorical_crossentropy', optimizer =Adam(learning_rate=0.004), metrics=['accuracy'])\n",
        "#model.compile(optimizer =Adam(learning_rate=0.004), loss='categorical_crossentropy')\n",
        "model.summary()"
      ],
      "execution_count": null,
      "outputs": [
        {
          "output_type": "stream",
          "name": "stdout",
          "text": [
            "Model: \"sequential_5\"\n",
            "_________________________________________________________________\n",
            "Layer (type)                 Output Shape              Param #   \n",
            "=================================================================\n",
            "dense_13 (Dense)             (None, 128)               1024      \n",
            "_________________________________________________________________\n",
            "dropout_8 (Dropout)          (None, 128)               0         \n",
            "_________________________________________________________________\n",
            "dense_14 (Dense)             (None, 128)               16512     \n",
            "_________________________________________________________________\n",
            "dropout_9 (Dropout)          (None, 128)               0         \n",
            "_________________________________________________________________\n",
            "dense_15 (Dense)             (None, 8)                 1032      \n",
            "=================================================================\n",
            "Total params: 18,568\n",
            "Trainable params: 18,568\n",
            "Non-trainable params: 0\n",
            "_________________________________________________________________\n"
          ]
        }
      ]
    },
    {
      "cell_type": "code",
      "metadata": {
        "colab": {
          "base_uri": "https://localhost:8080/"
        },
        "id": "4aVW84LvBL28",
        "outputId": "3a451430-33f5-47cd-f9fa-9cc17aa957a3"
      },
      "source": [
        "es = EarlyStopping(monitor='val_loss', min_delta=1e-10, patience=400, verbose=1)\n",
        "rlr = ReduceLROnPlateau(monitor='val_loss', factor=0.8, patience=3, verbose=1)\n",
        "mcp = ModelCheckpoint(filepath='weights.h5', monitor='val_loss', verbose=1, save_best_only=True, save_weights_only=True)\n",
        "\n",
        "tb = TensorBoard('logs')\n",
        "history = model.fit(trainX, labeled[1:], shuffle=False, epochs=50, callbacks=[es, rlr, mcp, tb], validation_split=0.30, batch_size=16, verbose=1)\n"
      ],
      "execution_count": null,
      "outputs": [
        {
          "output_type": "stream",
          "name": "stdout",
          "text": [
            "Epoch 1/50\n",
            "WARNING:tensorflow:Model was constructed with shape (None, 7) for input KerasTensor(type_spec=TensorSpec(shape=(None, 7), dtype=tf.float32, name='dense_13_input'), name='dense_13_input', description=\"created by layer 'dense_13_input'\"), but it was called on an input with incompatible shape (None, 1, 7).\n",
            "WARNING:tensorflow:Model was constructed with shape (None, 7) for input KerasTensor(type_spec=TensorSpec(shape=(None, 7), dtype=tf.float32, name='dense_13_input'), name='dense_13_input', description=\"created by layer 'dense_13_input'\"), but it was called on an input with incompatible shape (None, 1, 7).\n",
            "182/183 [============================>.] - ETA: 0s - loss: 0.8051 - accuracy: 0.9481WARNING:tensorflow:Model was constructed with shape (None, 7) for input KerasTensor(type_spec=TensorSpec(shape=(None, 7), dtype=tf.float32, name='dense_13_input'), name='dense_13_input', description=\"created by layer 'dense_13_input'\"), but it was called on an input with incompatible shape (None, 1, 7).\n",
            "183/183 [==============================] - 2s 10ms/step - loss: 0.8029 - accuracy: 0.9483 - val_loss: 0.4837 - val_accuracy: 0.9362\n",
            "\n",
            "Epoch 00001: val_loss improved from inf to 0.48372, saving model to weights.h5\n",
            "Epoch 2/50\n",
            "183/183 [==============================] - 1s 7ms/step - loss: 0.4496 - accuracy: 0.9524 - val_loss: 0.5199 - val_accuracy: 0.9362\n",
            "\n",
            "Epoch 00002: val_loss did not improve from 0.48372\n",
            "Epoch 3/50\n",
            "183/183 [==============================] - 1s 7ms/step - loss: 0.3720 - accuracy: 0.9524 - val_loss: 0.5624 - val_accuracy: 0.9362\n",
            "\n",
            "Epoch 00003: val_loss did not improve from 0.48372\n",
            "Epoch 4/50\n",
            "183/183 [==============================] - 1s 7ms/step - loss: 0.3364 - accuracy: 0.9524 - val_loss: 0.5414 - val_accuracy: 0.9362\n",
            "\n",
            "Epoch 00004: ReduceLROnPlateau reducing learning rate to 0.003200000151991844.\n",
            "\n",
            "Epoch 00004: val_loss did not improve from 0.48372\n",
            "Epoch 5/50\n",
            "183/183 [==============================] - 1s 7ms/step - loss: 0.3743 - accuracy: 0.9524 - val_loss: 0.5993 - val_accuracy: 0.9362\n",
            "\n",
            "Epoch 00005: val_loss did not improve from 0.48372\n",
            "Epoch 6/50\n",
            "183/183 [==============================] - 1s 6ms/step - loss: 0.3112 - accuracy: 0.9524 - val_loss: 0.6254 - val_accuracy: 0.9362\n",
            "\n",
            "Epoch 00006: val_loss did not improve from 0.48372\n",
            "Epoch 7/50\n",
            "183/183 [==============================] - 1s 7ms/step - loss: 0.2936 - accuracy: 0.9524 - val_loss: 0.6391 - val_accuracy: 0.9362\n",
            "\n",
            "Epoch 00007: ReduceLROnPlateau reducing learning rate to 0.0025600001215934755.\n",
            "\n",
            "Epoch 00007: val_loss did not improve from 0.48372\n",
            "Epoch 8/50\n",
            "183/183 [==============================] - 1s 7ms/step - loss: 0.3106 - accuracy: 0.9524 - val_loss: 0.6560 - val_accuracy: 0.9362\n",
            "\n",
            "Epoch 00008: val_loss did not improve from 0.48372\n",
            "Epoch 9/50\n",
            "183/183 [==============================] - 1s 7ms/step - loss: 0.2840 - accuracy: 0.9524 - val_loss: 0.6695 - val_accuracy: 0.9362\n",
            "\n",
            "Epoch 00009: val_loss did not improve from 0.48372\n",
            "Epoch 10/50\n",
            "183/183 [==============================] - 1s 6ms/step - loss: 0.2750 - accuracy: 0.9524 - val_loss: 0.6758 - val_accuracy: 0.9362\n",
            "\n",
            "Epoch 00010: ReduceLROnPlateau reducing learning rate to 0.002048000134527683.\n",
            "\n",
            "Epoch 00010: val_loss did not improve from 0.48372\n",
            "Epoch 11/50\n",
            "183/183 [==============================] - 1s 7ms/step - loss: 0.2681 - accuracy: 0.9524 - val_loss: 0.6879 - val_accuracy: 0.9362\n",
            "\n",
            "Epoch 00011: val_loss did not improve from 0.48372\n",
            "Epoch 12/50\n",
            "183/183 [==============================] - 1s 7ms/step - loss: 0.2736 - accuracy: 0.9524 - val_loss: 0.6880 - val_accuracy: 0.9362\n",
            "\n",
            "Epoch 00012: val_loss did not improve from 0.48372\n",
            "Epoch 13/50\n",
            "183/183 [==============================] - 1s 6ms/step - loss: 0.2710 - accuracy: 0.9524 - val_loss: 0.6931 - val_accuracy: 0.9362\n",
            "\n",
            "Epoch 00013: ReduceLROnPlateau reducing learning rate to 0.0016384001821279526.\n",
            "\n",
            "Epoch 00013: val_loss did not improve from 0.48372\n",
            "Epoch 14/50\n",
            "183/183 [==============================] - 1s 6ms/step - loss: 0.2694 - accuracy: 0.9524 - val_loss: 0.7015 - val_accuracy: 0.9362\n",
            "\n",
            "Epoch 00014: val_loss did not improve from 0.48372\n",
            "Epoch 15/50\n",
            "183/183 [==============================] - 1s 6ms/step - loss: 0.2629 - accuracy: 0.9524 - val_loss: 0.7101 - val_accuracy: 0.9362\n",
            "\n",
            "Epoch 00015: val_loss did not improve from 0.48372\n",
            "Epoch 16/50\n",
            "183/183 [==============================] - 1s 7ms/step - loss: 0.2632 - accuracy: 0.9524 - val_loss: 0.7098 - val_accuracy: 0.9362\n",
            "\n",
            "Epoch 00016: ReduceLROnPlateau reducing learning rate to 0.001310720108449459.\n",
            "\n",
            "Epoch 00016: val_loss did not improve from 0.48372\n",
            "Epoch 17/50\n",
            "183/183 [==============================] - 1s 7ms/step - loss: 0.2639 - accuracy: 0.9524 - val_loss: 0.7208 - val_accuracy: 0.9362\n",
            "\n",
            "Epoch 00017: val_loss did not improve from 0.48372\n",
            "Epoch 18/50\n",
            "183/183 [==============================] - 1s 7ms/step - loss: 0.2644 - accuracy: 0.9524 - val_loss: 0.7234 - val_accuracy: 0.9362\n",
            "\n",
            "Epoch 00018: val_loss did not improve from 0.48372\n",
            "Epoch 19/50\n",
            "183/183 [==============================] - 1s 6ms/step - loss: 0.2661 - accuracy: 0.9524 - val_loss: 0.7256 - val_accuracy: 0.9362\n",
            "\n",
            "Epoch 00019: ReduceLROnPlateau reducing learning rate to 0.0010485760867595673.\n",
            "\n",
            "Epoch 00019: val_loss did not improve from 0.48372\n",
            "Epoch 20/50\n",
            "183/183 [==============================] - 1s 7ms/step - loss: 0.2581 - accuracy: 0.9524 - val_loss: 0.7333 - val_accuracy: 0.9362\n",
            "\n",
            "Epoch 00020: val_loss did not improve from 0.48372\n",
            "Epoch 21/50\n",
            "183/183 [==============================] - 1s 7ms/step - loss: 0.2579 - accuracy: 0.9524 - val_loss: 0.7322 - val_accuracy: 0.9362\n",
            "\n",
            "Epoch 00021: val_loss did not improve from 0.48372\n",
            "Epoch 22/50\n",
            "183/183 [==============================] - 1s 7ms/step - loss: 0.2578 - accuracy: 0.9524 - val_loss: 0.7407 - val_accuracy: 0.9362\n",
            "\n",
            "Epoch 00022: ReduceLROnPlateau reducing learning rate to 0.0008388608694076538.\n",
            "\n",
            "Epoch 00022: val_loss did not improve from 0.48372\n",
            "Epoch 23/50\n",
            "183/183 [==============================] - 1s 7ms/step - loss: 0.2579 - accuracy: 0.9524 - val_loss: 0.7483 - val_accuracy: 0.9362\n",
            "\n",
            "Epoch 00023: val_loss did not improve from 0.48372\n",
            "Epoch 24/50\n",
            "183/183 [==============================] - 1s 7ms/step - loss: 0.2584 - accuracy: 0.9524 - val_loss: 0.7579 - val_accuracy: 0.9362\n",
            "\n",
            "Epoch 00024: val_loss did not improve from 0.48372\n",
            "Epoch 25/50\n",
            "183/183 [==============================] - 1s 7ms/step - loss: 0.2574 - accuracy: 0.9524 - val_loss: 0.7565 - val_accuracy: 0.9362\n",
            "\n",
            "Epoch 00025: ReduceLROnPlateau reducing learning rate to 0.000671088695526123.\n",
            "\n",
            "Epoch 00025: val_loss did not improve from 0.48372\n",
            "Epoch 26/50\n",
            "183/183 [==============================] - 1s 7ms/step - loss: 0.2688 - accuracy: 0.9524 - val_loss: 0.7660 - val_accuracy: 0.9362\n",
            "\n",
            "Epoch 00026: val_loss did not improve from 0.48372\n",
            "Epoch 27/50\n",
            "183/183 [==============================] - 1s 7ms/step - loss: 0.2627 - accuracy: 0.9524 - val_loss: 0.7648 - val_accuracy: 0.9362\n",
            "\n",
            "Epoch 00027: val_loss did not improve from 0.48372\n",
            "Epoch 28/50\n",
            "183/183 [==============================] - 1s 7ms/step - loss: 0.2557 - accuracy: 0.9524 - val_loss: 0.7738 - val_accuracy: 0.9362\n",
            "\n",
            "Epoch 00028: ReduceLROnPlateau reducing learning rate to 0.0005368709564208985.\n",
            "\n",
            "Epoch 00028: val_loss did not improve from 0.48372\n",
            "Epoch 29/50\n",
            "183/183 [==============================] - 1s 7ms/step - loss: 0.2537 - accuracy: 0.9524 - val_loss: 0.7815 - val_accuracy: 0.9362\n",
            "\n",
            "Epoch 00029: val_loss did not improve from 0.48372\n",
            "Epoch 30/50\n",
            "183/183 [==============================] - 1s 7ms/step - loss: 0.2503 - accuracy: 0.9524 - val_loss: 0.7877 - val_accuracy: 0.9362\n",
            "\n",
            "Epoch 00030: val_loss did not improve from 0.48372\n",
            "Epoch 31/50\n",
            "183/183 [==============================] - 1s 7ms/step - loss: 0.2511 - accuracy: 0.9524 - val_loss: 0.7891 - val_accuracy: 0.9362\n",
            "\n",
            "Epoch 00031: ReduceLROnPlateau reducing learning rate to 0.0004294967744499445.\n",
            "\n",
            "Epoch 00031: val_loss did not improve from 0.48372\n",
            "Epoch 32/50\n",
            "183/183 [==============================] - 1s 7ms/step - loss: 0.2475 - accuracy: 0.9524 - val_loss: 0.7957 - val_accuracy: 0.9362\n",
            "\n",
            "Epoch 00032: val_loss did not improve from 0.48372\n",
            "Epoch 33/50\n",
            "183/183 [==============================] - 1s 7ms/step - loss: 0.2478 - accuracy: 0.9524 - val_loss: 0.8049 - val_accuracy: 0.9362\n",
            "\n",
            "Epoch 00033: val_loss did not improve from 0.48372\n",
            "Epoch 34/50\n",
            "183/183 [==============================] - 1s 7ms/step - loss: 0.2495 - accuracy: 0.9524 - val_loss: 0.8097 - val_accuracy: 0.9362\n",
            "\n",
            "Epoch 00034: ReduceLROnPlateau reducing learning rate to 0.0003435974242165685.\n",
            "\n",
            "Epoch 00034: val_loss did not improve from 0.48372\n",
            "Epoch 35/50\n",
            "183/183 [==============================] - 1s 7ms/step - loss: 0.2483 - accuracy: 0.9524 - val_loss: 0.8128 - val_accuracy: 0.9362\n",
            "\n",
            "Epoch 00035: val_loss did not improve from 0.48372\n",
            "Epoch 36/50\n",
            "183/183 [==============================] - 1s 7ms/step - loss: 0.2459 - accuracy: 0.9524 - val_loss: 0.8187 - val_accuracy: 0.9362\n",
            "\n",
            "Epoch 00036: val_loss did not improve from 0.48372\n",
            "Epoch 37/50\n",
            "183/183 [==============================] - 1s 7ms/step - loss: 0.2454 - accuracy: 0.9524 - val_loss: 0.8229 - val_accuracy: 0.9362\n",
            "\n",
            "Epoch 00037: ReduceLROnPlateau reducing learning rate to 0.00027487794868648053.\n",
            "\n",
            "Epoch 00037: val_loss did not improve from 0.48372\n",
            "Epoch 38/50\n",
            "183/183 [==============================] - 1s 7ms/step - loss: 0.2478 - accuracy: 0.9524 - val_loss: 0.8271 - val_accuracy: 0.9362\n",
            "\n",
            "Epoch 00038: val_loss did not improve from 0.48372\n",
            "Epoch 39/50\n",
            "183/183 [==============================] - 1s 7ms/step - loss: 0.2482 - accuracy: 0.9524 - val_loss: 0.8314 - val_accuracy: 0.9362\n",
            "\n",
            "Epoch 00039: val_loss did not improve from 0.48372\n",
            "Epoch 40/50\n",
            "183/183 [==============================] - 1s 7ms/step - loss: 0.2450 - accuracy: 0.9524 - val_loss: 0.8324 - val_accuracy: 0.9362\n",
            "\n",
            "Epoch 00040: ReduceLROnPlateau reducing learning rate to 0.00021990234963595868.\n",
            "\n",
            "Epoch 00040: val_loss did not improve from 0.48372\n",
            "Epoch 41/50\n",
            "183/183 [==============================] - 1s 7ms/step - loss: 0.2444 - accuracy: 0.9524 - val_loss: 0.8387 - val_accuracy: 0.9362\n",
            "\n",
            "Epoch 00041: val_loss did not improve from 0.48372\n",
            "Epoch 42/50\n",
            "183/183 [==============================] - 1s 7ms/step - loss: 0.2421 - accuracy: 0.9524 - val_loss: 0.8427 - val_accuracy: 0.9362\n",
            "\n",
            "Epoch 00042: val_loss did not improve from 0.48372\n",
            "Epoch 43/50\n",
            "183/183 [==============================] - 1s 6ms/step - loss: 0.2442 - accuracy: 0.9524 - val_loss: 0.8480 - val_accuracy: 0.9362\n",
            "\n",
            "Epoch 00043: ReduceLROnPlateau reducing learning rate to 0.00017592187505215408.\n",
            "\n",
            "Epoch 00043: val_loss did not improve from 0.48372\n",
            "Epoch 44/50\n",
            "183/183 [==============================] - 1s 7ms/step - loss: 0.2390 - accuracy: 0.9524 - val_loss: 0.8530 - val_accuracy: 0.9362\n",
            "\n",
            "Epoch 00044: val_loss did not improve from 0.48372\n",
            "Epoch 45/50\n",
            "183/183 [==============================] - 1s 7ms/step - loss: 0.2451 - accuracy: 0.9524 - val_loss: 0.8542 - val_accuracy: 0.9362\n",
            "\n",
            "Epoch 00045: val_loss did not improve from 0.48372\n",
            "Epoch 46/50\n",
            "183/183 [==============================] - 1s 7ms/step - loss: 0.2412 - accuracy: 0.9524 - val_loss: 0.8603 - val_accuracy: 0.9362\n",
            "\n",
            "Epoch 00046: ReduceLROnPlateau reducing learning rate to 0.00014073749771341683.\n",
            "\n",
            "Epoch 00046: val_loss did not improve from 0.48372\n",
            "Epoch 47/50\n",
            "183/183 [==============================] - 1s 7ms/step - loss: 0.2429 - accuracy: 0.9524 - val_loss: 0.8618 - val_accuracy: 0.9362\n",
            "\n",
            "Epoch 00047: val_loss did not improve from 0.48372\n",
            "Epoch 48/50\n",
            "183/183 [==============================] - 1s 7ms/step - loss: 0.2413 - accuracy: 0.9524 - val_loss: 0.8661 - val_accuracy: 0.9362\n",
            "\n",
            "Epoch 00048: val_loss did not improve from 0.48372\n",
            "Epoch 49/50\n",
            "183/183 [==============================] - 1s 7ms/step - loss: 0.2409 - accuracy: 0.9524 - val_loss: 0.8718 - val_accuracy: 0.9362\n",
            "\n",
            "Epoch 00049: ReduceLROnPlateau reducing learning rate to 0.00011258999584242702.\n",
            "\n",
            "Epoch 00049: val_loss did not improve from 0.48372\n",
            "Epoch 50/50\n",
            "183/183 [==============================] - 1s 7ms/step - loss: 0.2426 - accuracy: 0.9524 - val_loss: 0.8746 - val_accuracy: 0.9362\n",
            "\n",
            "Epoch 00050: val_loss did not improve from 0.48372\n"
          ]
        }
      ]
    },
    {
      "cell_type": "code",
      "metadata": {
        "colab": {
          "base_uri": "https://localhost:8080/",
          "height": 545
        },
        "id": "vJ3DLeQI-3N-",
        "outputId": "92bfff46-2ebe-487a-b1da-468560af6298"
      },
      "source": [
        "import matplotlib.pyplot as plt\n",
        "%matplotlib inline\n",
        "acc = history.history['accuracy']\n",
        "val_acc = history.history['val_accuracy']\n",
        "loss = history.history['loss']\n",
        "val_loss = history.history['val_loss']\n",
        "\n",
        "epochs = range(len(acc))\n",
        "\n",
        "plt.plot(epochs, acc, 'bo', label='Training acc')\n",
        "plt.plot(epochs, val_acc, 'b', label='Validation acc')\n",
        "plt.title('Training and validation accuracy')\n",
        "plt.legend()\n",
        "\n",
        "plt.figure()\n",
        "\n",
        "plt.plot(epochs, loss, 'bo', label='Training loss')\n",
        "plt.plot(epochs, val_loss, 'b', label='Validation loss')\n",
        "plt.title('Training and validation loss')\n",
        "plt.legend()\n",
        "plt.savefig('loss.png', dpi=500, bbox_inches='tight')\n",
        "plt.show()"
      ],
      "execution_count": null,
      "outputs": [
        {
          "output_type": "display_data",
          "data": {
            "image/png": "[encoded data removed]",
            "text/plain": [
              "<Figure size 432x288 with 1 Axes>"
            ]
          },
          "metadata": {
            "needs_background": "light"
          }
        },
        {
          "output_type": "display_data",
          "data": {
            "image/png": "[encoded data removed]",
            "text/plain": [
              "<Figure size 432x288 with 1 Axes>"
            ]
          },
          "metadata": {
            "needs_background": "light"
          }
        }
      ]
    },
    {
      "cell_type": "code",
      "metadata": {
        "id": "ctD78S1bptDh"
      },
      "source": [
        "labeltest = testY.astype(int)\n",
        "labeltest = indices_to_one_hot(labeltest, nb_classes)\n",
        "#trainY = trainY[1:]\n",
        "print(testX.shape)"
      ],
      "execution_count": null,
      "outputs": []
    },
    {
      "cell_type": "code",
      "metadata": {
        "id": "HMbp-woNBL5a"
      },
      "source": [
        "Y_test_pred = model.predict(testX)\n"
      ],
      "execution_count": null,
      "outputs": []
    },
    {
      "cell_type": "code",
      "metadata": {
        "colab": {
          "base_uri": "https://localhost:8080/"
        },
        "id": "QS08dkfQptL1",
        "outputId": "5b57e653-b137-4a4a-c01c-2f9933e51689"
      },
      "source": [
        "print(Y_test_pred[1590])"
      ],
      "execution_count": null,
      "outputs": [
        {
          "output_type": "stream",
          "name": "stdout",
          "text": [
            "[9.2674303e-01 3.8103379e-02 1.4086149e-02 3.1926270e-08 2.7028575e-08\n",
            " 3.7160220e-08 3.1611787e-08 2.1067344e-02]\n"
          ]
        }
      ]
    },
    {
      "cell_type": "code",
      "metadata": {
        "id": "rw6SoDir3gyk"
      },
      "source": [],
      "execution_count": null,
      "outputs": []
    }
  ]
}